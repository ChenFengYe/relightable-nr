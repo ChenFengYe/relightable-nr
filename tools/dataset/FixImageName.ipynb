{
 "cells": [
  {
   "cell_type": "code",
   "execution_count": 1,
   "metadata": {},
   "outputs": [],
   "source": [
    "import os\n",
    "from pathlib import *"
   ]
  },
  {
   "cell_type": "code",
   "execution_count": 3,
   "metadata": {
    "tags": [
     "outputPrepend"
    ]
   },
   "outputs": [
    {
     "output_type": "stream",
     "name": "stdout",
     "text": "ealdome_cx/rgb0/149//mask/image.cam49_000149.png\n/data/NFS/new_disk/chenxin/relightable-nr/data/realdome_cx/rgb0/149//mask/048.png\n/data/NFS/new_disk/chenxin/relightable-nr/data/realdome_cx/rgb0/149//mask/image.cam50_000149.png\n/data/NFS/new_disk/chenxin/relightable-nr/data/realdome_cx/rgb0/149//mask/049.png\n/data/NFS/new_disk/chenxin/relightable-nr/data/realdome_cx/rgb0/149//mask/image.cam51_000149.png\n/data/NFS/new_disk/chenxin/relightable-nr/data/realdome_cx/rgb0/149//mask/050.png\n/data/NFS/new_disk/chenxin/relightable-nr/data/realdome_cx/rgb0/149//mask/image.cam52_000149.png\n/data/NFS/new_disk/chenxin/relightable-nr/data/realdome_cx/rgb0/149//mask/051.png\n/data/NFS/new_disk/chenxin/relightable-nr/data/realdome_cx/rgb0/149//mask/image.cam53_000149.png\n/data/NFS/new_disk/chenxin/relightable-nr/data/realdome_cx/rgb0/149//mask/052.png\n/data/NFS/new_disk/chenxin/relightable-nr/data/realdome_cx/rgb0/149//mask/image.cam54_000149.png\n/data/NFS/new_disk/chenxin/relightable-nr/data/realdome_cx/rgb0/149//mask/053.png\n/data/NFS/new_disk/chenxin/relightable-nr/data/realdome_cx/rgb0/149//mask/image.cam55_000149.png\n/data/NFS/new_disk/chenxin/relightable-nr/data/realdome_cx/rgb0/149//mask/054.png\n/data/NFS/new_disk/chenxin/relightable-nr/data/realdome_cx/rgb0/149//mask/image.cam56_000149.png\n/data/NFS/new_disk/chenxin/relightable-nr/data/realdome_cx/rgb0/149//mask/055.png\n/data/NFS/new_disk/chenxin/relightable-nr/data/realdome_cx/rgb0/149//mask/image.cam57_000149.png\n/data/NFS/new_disk/chenxin/relightable-nr/data/realdome_cx/rgb0/149//mask/056.png\n/data/NFS/new_disk/chenxin/relightable-nr/data/realdome_cx/rgb0/149//mask/image.cam58_000149.png\n/data/NFS/new_disk/chenxin/relightable-nr/data/realdome_cx/rgb0/149//mask/057.png\n/data/NFS/new_disk/chenxin/relightable-nr/data/realdome_cx/rgb0/149//mask/image.cam59_000149.png\n/data/NFS/new_disk/chenxin/relightable-nr/data/realdome_cx/rgb0/149//mask/058.png\n/data/NFS/new_disk/chenxin/relightable-nr/data/realdome_cx/rgb0/149//mask/image.cam60_000149.png\n/data/NFS/new_disk/chenxin/relightable-nr/data/realdome_cx/rgb0/149//mask/059.png\n/data/NFS/new_disk/chenxin/relightable-nr/data/realdome_cx/rgb0/149//mask/image.cam61_000149.png\n/data/NFS/new_disk/chenxin/relightable-nr/data/realdome_cx/rgb0/149//mask/060.png\n/data/NFS/new_disk/chenxin/relightable-nr/data/realdome_cx/rgb0/149//mask/image.cam62_000149.png\n/data/NFS/new_disk/chenxin/relightable-nr/data/realdome_cx/rgb0/149//mask/061.png\n/data/NFS/new_disk/chenxin/relightable-nr/data/realdome_cx/rgb0/149//mask/image.cam63_000149.png\n/data/NFS/new_disk/chenxin/relightable-nr/data/realdome_cx/rgb0/149//mask/062.png\n/data/NFS/new_disk/chenxin/relightable-nr/data/realdome_cx/rgb0/149//mask/image.cam64_000149.png\n/data/NFS/new_disk/chenxin/relightable-nr/data/realdome_cx/rgb0/149//mask/063.png\n/data/NFS/new_disk/chenxin/relightable-nr/data/realdome_cx/rgb0/149//mask/image.cam65_000149.png\n/data/NFS/new_disk/chenxin/relightable-nr/data/realdome_cx/rgb0/149//mask/064.png\n/data/NFS/new_disk/chenxin/relightable-nr/data/realdome_cx/rgb0/149//mask/image.cam66_000149.png\n/data/NFS/new_disk/chenxin/relightable-nr/data/realdome_cx/rgb0/149//mask/065.png\n/data/NFS/new_disk/chenxin/relightable-nr/data/realdome_cx/rgb0/149//mask/image.cam67_000149.png\n/data/NFS/new_disk/chenxin/relightable-nr/data/realdome_cx/rgb0/149//mask/066.png\n/data/NFS/new_disk/chenxin/relightable-nr/data/realdome_cx/rgb0/149//mask/image.cam68_000149.png\n/data/NFS/new_disk/chenxin/relightable-nr/data/realdome_cx/rgb0/149//mask/067.png\n/data/NFS/new_disk/chenxin/relightable-nr/data/realdome_cx/rgb0/149//mask/image.cam69_000149.png\n/data/NFS/new_disk/chenxin/relightable-nr/data/realdome_cx/rgb0/149//mask/068.png\n/data/NFS/new_disk/chenxin/relightable-nr/data/realdome_cx/rgb0/149//mask/image.cam70_000149.png\n/data/NFS/new_disk/chenxin/relightable-nr/data/realdome_cx/rgb0/149//mask/069.png\n/data/NFS/new_disk/chenxin/relightable-nr/data/realdome_cx/rgb0/149//mask/image.cam71_000149.png\n/data/NFS/new_disk/chenxin/relightable-nr/data/realdome_cx/rgb0/149//mask/070.png\n/data/NFS/new_disk/chenxin/relightable-nr/data/realdome_cx/rgb0/149//mask/image.cam72_000149.png\n/data/NFS/new_disk/chenxin/relightable-nr/data/realdome_cx/rgb0/149//mask/071.png\n/data/NFS/new_disk/chenxin/relightable-nr/data/realdome_cx/rgb0/149//mask/image.cam73_000149.png\n/data/NFS/new_disk/chenxin/relightable-nr/data/realdome_cx/rgb0/149//mask/072.png\n/data/NFS/new_disk/chenxin/relightable-nr/data/realdome_cx/rgb0/149//mask/image.cam74_000149.png\n/data/NFS/new_disk/chenxin/relightable-nr/data/realdome_cx/rgb0/149//mask/073.png\n/data/NFS/new_disk/chenxin/relightable-nr/data/realdome_cx/rgb0/149//mask/image.cam75_000149.png\n/data/NFS/new_disk/chenxin/relightable-nr/data/realdome_cx/rgb0/149//mask/074.png\n/data/NFS/new_disk/chenxin/relightable-nr/data/realdome_cx/rgb0/149//mask/image.cam76_000149.png\n/data/NFS/new_disk/chenxin/relightable-nr/data/realdome_cx/rgb0/149//mask/075.png\n/data/NFS/new_disk/chenxin/relightable-nr/data/realdome_cx/rgb0/149//mask/image.cam77_000149.png\n/data/NFS/new_disk/chenxin/relightable-nr/data/realdome_cx/rgb0/149//mask/076.png\n/data/NFS/new_disk/chenxin/relightable-nr/data/realdome_cx/rgb0/149//mask/image.cam78_000149.png\n/data/NFS/new_disk/chenxin/relightable-nr/data/realdome_cx/rgb0/149//mask/077.png\n/data/NFS/new_disk/chenxin/relightable-nr/data/realdome_cx/rgb0/149//mask/image.cam79_000149.png\n/data/NFS/new_disk/chenxin/relightable-nr/data/realdome_cx/rgb0/149//mask/078.png\n/data/NFS/new_disk/chenxin/relightable-nr/data/realdome_cx/rgb0/149//mask/image.cam80_000149.png\n/data/NFS/new_disk/chenxin/relightable-nr/data/realdome_cx/rgb0/149//mask/079.png\n/data/NFS/new_disk/chenxin/relightable-nr/data/realdome_cx/rgb0/150//mask/image.cam01_000150.png\n/data/NFS/new_disk/chenxin/relightable-nr/data/realdome_cx/rgb0/150//mask/000.png\n/data/NFS/new_disk/chenxin/relightable-nr/data/realdome_cx/rgb0/150//mask/image.cam02_000150.png\n/data/NFS/new_disk/chenxin/relightable-nr/data/realdome_cx/rgb0/150//mask/001.png\n/data/NFS/new_disk/chenxin/relightable-nr/data/realdome_cx/rgb0/150//mask/image.cam03_000150.png\n/data/NFS/new_disk/chenxin/relightable-nr/data/realdome_cx/rgb0/150//mask/002.png\n/data/NFS/new_disk/chenxin/relightable-nr/data/realdome_cx/rgb0/150//mask/image.cam04_000150.png\n/data/NFS/new_disk/chenxin/relightable-nr/data/realdome_cx/rgb0/150//mask/003.png\n/data/NFS/new_disk/chenxin/relightable-nr/data/realdome_cx/rgb0/150//mask/image.cam05_000150.png\n/data/NFS/new_disk/chenxin/relightable-nr/data/realdome_cx/rgb0/150//mask/004.png\n/data/NFS/new_disk/chenxin/relightable-nr/data/realdome_cx/rgb0/150//mask/image.cam06_000150.png\n/data/NFS/new_disk/chenxin/relightable-nr/data/realdome_cx/rgb0/150//mask/005.png\n/data/NFS/new_disk/chenxin/relightable-nr/data/realdome_cx/rgb0/150//mask/image.cam07_000150.png\n/data/NFS/new_disk/chenxin/relightable-nr/data/realdome_cx/rgb0/150//mask/006.png\n/data/NFS/new_disk/chenxin/relightable-nr/data/realdome_cx/rgb0/150//mask/image.cam08_000150.png\n/data/NFS/new_disk/chenxin/relightable-nr/data/realdome_cx/rgb0/150//mask/007.png\n/data/NFS/new_disk/chenxin/relightable-nr/data/realdome_cx/rgb0/150//mask/image.cam09_000150.png\n/data/NFS/new_disk/chenxin/relightable-nr/data/realdome_cx/rgb0/150//mask/008.png\n/data/NFS/new_disk/chenxin/relightable-nr/data/realdome_cx/rgb0/150//mask/image.cam10_000150.png\n/data/NFS/new_disk/chenxin/relightable-nr/data/realdome_cx/rgb0/150//mask/009.png\n/data/NFS/new_disk/chenxin/relightable-nr/data/realdome_cx/rgb0/150//mask/image.cam11_000150.png\n/data/NFS/new_disk/chenxin/relightable-nr/data/realdome_cx/rgb0/150//mask/010.png\n/data/NFS/new_disk/chenxin/relightable-nr/data/realdome_cx/rgb0/150//mask/image.cam12_000150.png\n/data/NFS/new_disk/chenxin/relightable-nr/data/realdome_cx/rgb0/150//mask/011.png\n/data/NFS/new_disk/chenxin/relightable-nr/data/realdome_cx/rgb0/150//mask/image.cam13_000150.png\n/data/NFS/new_disk/chenxin/relightable-nr/data/realdome_cx/rgb0/150//mask/012.png\n/data/NFS/new_disk/chenxin/relightable-nr/data/realdome_cx/rgb0/150//mask/image.cam14_000150.png\n/data/NFS/new_disk/chenxin/relightable-nr/data/realdome_cx/rgb0/150//mask/013.png\n/data/NFS/new_disk/chenxin/relightable-nr/data/realdome_cx/rgb0/150//mask/image.cam15_000150.png\n/data/NFS/new_disk/chenxin/relightable-nr/data/realdome_cx/rgb0/150//mask/014.png\n/data/NFS/new_disk/chenxin/relightable-nr/data/realdome_cx/rgb0/150//mask/image.cam16_000150.png\n/data/NFS/new_disk/chenxin/relightable-nr/data/realdome_cx/rgb0/150//mask/015.png\n/data/NFS/new_disk/chenxin/relightable-nr/data/realdome_cx/rgb0/150//mask/image.cam17_000150.png\n/data/NFS/new_disk/chenxin/relightable-nr/data/realdome_cx/rgb0/150//mask/016.png\n/data/NFS/new_disk/chenxin/relightable-nr/data/realdome_cx/rgb0/150//mask/image.cam18_000150.png\n/data/NFS/new_disk/chenxin/relightable-nr/data/realdome_cx/rgb0/150//mask/017.png\n/data/NFS/new_disk/chenxin/relightable-nr/data/realdome_cx/rgb0/150//mask/image.cam19_000150.png\n/data/NFS/new_disk/chenxin/relightable-nr/data/realdome_cx/rgb0/150//mask/018.png\n/data/NFS/new_disk/chenxin/relightable-nr/data/realdome_cx/rgb0/150//mask/image.cam20_000150.png\n/data/NFS/new_disk/chenxin/relightable-nr/data/realdome_cx/rgb0/150//mask/019.png\n/data/NFS/new_disk/chenxin/relightable-nr/data/realdome_cx/rgb0/150//mask/image.cam21_000150.png\n/data/NFS/new_disk/chenxin/relightable-nr/data/realdome_cx/rgb0/150//mask/020.png\n/data/NFS/new_disk/chenxin/relightable-nr/data/realdome_cx/rgb0/150//mask/image.cam22_000150.png\n/data/NFS/new_disk/chenxin/relightable-nr/data/realdome_cx/rgb0/150//mask/021.png\n/data/NFS/new_disk/chenxin/relightable-nr/data/realdome_cx/rgb0/150//mask/image.cam23_000150.png\n/data/NFS/new_disk/chenxin/relightable-nr/data/realdome_cx/rgb0/150//mask/022.png\n/data/NFS/new_disk/chenxin/relightable-nr/data/realdome_cx/rgb0/150//mask/image.cam24_000150.png\n/data/NFS/new_disk/chenxin/relightable-nr/data/realdome_cx/rgb0/150//mask/023.png\n/data/NFS/new_disk/chenxin/relightable-nr/data/realdome_cx/rgb0/150//mask/image.cam25_000150.png\n/data/NFS/new_disk/chenxin/relightable-nr/data/realdome_cx/rgb0/150//mask/024.png\n/data/NFS/new_disk/chenxin/relightable-nr/data/realdome_cx/rgb0/150//mask/image.cam26_000150.png\n/data/NFS/new_disk/chenxin/relightable-nr/data/realdome_cx/rgb0/150//mask/025.png\n/data/NFS/new_disk/chenxin/relightable-nr/data/realdome_cx/rgb0/150//mask/image.cam27_000150.png\n/data/NFS/new_disk/chenxin/relightable-nr/data/realdome_cx/rgb0/150//mask/026.png\n/data/NFS/new_disk/chenxin/relightable-nr/data/realdome_cx/rgb0/150//mask/image.cam28_000150.png\n/data/NFS/new_disk/chenxin/relightable-nr/data/realdome_cx/rgb0/150//mask/027.png\n/data/NFS/new_disk/chenxin/relightable-nr/data/realdome_cx/rgb0/150//mask/image.cam29_000150.png\n/data/NFS/new_disk/chenxin/relightable-nr/data/realdome_cx/rgb0/150//mask/028.png\n/data/NFS/new_disk/chenxin/relightable-nr/data/realdome_cx/rgb0/150//mask/image.cam30_000150.png\n/data/NFS/new_disk/chenxin/relightable-nr/data/realdome_cx/rgb0/150//mask/029.png\n/data/NFS/new_disk/chenxin/relightable-nr/data/realdome_cx/rgb0/150//mask/image.cam31_000150.png\n/data/NFS/new_disk/chenxin/relightable-nr/data/realdome_cx/rgb0/150//mask/030.png\n/data/NFS/new_disk/chenxin/relightable-nr/data/realdome_cx/rgb0/150//mask/image.cam32_000150.png\n/data/NFS/new_disk/chenxin/relightable-nr/data/realdome_cx/rgb0/150//mask/031.png\n/data/NFS/new_disk/chenxin/relightable-nr/data/realdome_cx/rgb0/150//mask/image.cam33_000150.png\n/data/NFS/new_disk/chenxin/relightable-nr/data/realdome_cx/rgb0/150//mask/032.png\n/data/NFS/new_disk/chenxin/relightable-nr/data/realdome_cx/rgb0/150//mask/image.cam34_000150.png\n/data/NFS/new_disk/chenxin/relightable-nr/data/realdome_cx/rgb0/150//mask/033.png\n/data/NFS/new_disk/chenxin/relightable-nr/data/realdome_cx/rgb0/150//mask/image.cam35_000150.png\n/data/NFS/new_disk/chenxin/relightable-nr/data/realdome_cx/rgb0/150//mask/034.png\n/data/NFS/new_disk/chenxin/relightable-nr/data/realdome_cx/rgb0/150//mask/image.cam36_000150.png\n/data/NFS/new_disk/chenxin/relightable-nr/data/realdome_cx/rgb0/150//mask/035.png\n/data/NFS/new_disk/chenxin/relightable-nr/data/realdome_cx/rgb0/150//mask/image.cam37_000150.png\n/data/NFS/new_disk/chenxin/relightable-nr/data/realdome_cx/rgb0/150//mask/036.png\n/data/NFS/new_disk/chenxin/relightable-nr/data/realdome_cx/rgb0/150//mask/image.cam38_000150.png\n/data/NFS/new_disk/chenxin/relightable-nr/data/realdome_cx/rgb0/150//mask/037.png\n/data/NFS/new_disk/chenxin/relightable-nr/data/realdome_cx/rgb0/150//mask/image.cam39_000150.png\n/data/NFS/new_disk/chenxin/relightable-nr/data/realdome_cx/rgb0/150//mask/038.png\n/data/NFS/new_disk/chenxin/relightable-nr/data/realdome_cx/rgb0/150//mask/image.cam40_000150.png\n/data/NFS/new_disk/chenxin/relightable-nr/data/realdome_cx/rgb0/150//mask/039.png\n/data/NFS/new_disk/chenxin/relightable-nr/data/realdome_cx/rgb0/150//mask/image.cam41_000150.png\n/data/NFS/new_disk/chenxin/relightable-nr/data/realdome_cx/rgb0/150//mask/040.png\n/data/NFS/new_disk/chenxin/relightable-nr/data/realdome_cx/rgb0/150//mask/image.cam42_000150.png\n/data/NFS/new_disk/chenxin/relightable-nr/data/realdome_cx/rgb0/150//mask/041.png\n/data/NFS/new_disk/chenxin/relightable-nr/data/realdome_cx/rgb0/150//mask/image.cam43_000150.png\n/data/NFS/new_disk/chenxin/relightable-nr/data/realdome_cx/rgb0/150//mask/042.png\n/data/NFS/new_disk/chenxin/relightable-nr/data/realdome_cx/rgb0/150//mask/image.cam44_000150.png\n/data/NFS/new_disk/chenxin/relightable-nr/data/realdome_cx/rgb0/150//mask/043.png\n/data/NFS/new_disk/chenxin/relightable-nr/data/realdome_cx/rgb0/150//mask/image.cam45_000150.png\n/data/NFS/new_disk/chenxin/relightable-nr/data/realdome_cx/rgb0/150//mask/044.png\n/data/NFS/new_disk/chenxin/relightable-nr/data/realdome_cx/rgb0/150//mask/image.cam46_000150.png\n/data/NFS/new_disk/chenxin/relightable-nr/data/realdome_cx/rgb0/150//mask/045.png\n/data/NFS/new_disk/chenxin/relightable-nr/data/realdome_cx/rgb0/150//mask/image.cam47_000150.png\n/data/NFS/new_disk/chenxin/relightable-nr/data/realdome_cx/rgb0/150//mask/046.png\n/data/NFS/new_disk/chenxin/relightable-nr/data/realdome_cx/rgb0/150//mask/image.cam48_000150.png\n/data/NFS/new_disk/chenxin/relightable-nr/data/realdome_cx/rgb0/150//mask/047.png\n/data/NFS/new_disk/chenxin/relightable-nr/data/realdome_cx/rgb0/150//mask/image.cam49_000150.png\n/data/NFS/new_disk/chenxin/relightable-nr/data/realdome_cx/rgb0/150//mask/048.png\n/data/NFS/new_disk/chenxin/relightable-nr/data/realdome_cx/rgb0/150//mask/image.cam50_000150.png\n/data/NFS/new_disk/chenxin/relightable-nr/data/realdome_cx/rgb0/150//mask/049.png\n/data/NFS/new_disk/chenxin/relightable-nr/data/realdome_cx/rgb0/150//mask/image.cam51_000150.png\n/data/NFS/new_disk/chenxin/relightable-nr/data/realdome_cx/rgb0/150//mask/050.png\n/data/NFS/new_disk/chenxin/relightable-nr/data/realdome_cx/rgb0/150//mask/image.cam52_000150.png\n/data/NFS/new_disk/chenxin/relightable-nr/data/realdome_cx/rgb0/150//mask/051.png\n/data/NFS/new_disk/chenxin/relightable-nr/data/realdome_cx/rgb0/150//mask/image.cam53_000150.png\n/data/NFS/new_disk/chenxin/relightable-nr/data/realdome_cx/rgb0/150//mask/052.png\n/data/NFS/new_disk/chenxin/relightable-nr/data/realdome_cx/rgb0/150//mask/image.cam54_000150.png\n/data/NFS/new_disk/chenxin/relightable-nr/data/realdome_cx/rgb0/150//mask/053.png\n/data/NFS/new_disk/chenxin/relightable-nr/data/realdome_cx/rgb0/150//mask/image.cam55_000150.png\n/data/NFS/new_disk/chenxin/relightable-nr/data/realdome_cx/rgb0/150//mask/054.png\n/data/NFS/new_disk/chenxin/relightable-nr/data/realdome_cx/rgb0/150//mask/image.cam56_000150.png\n/data/NFS/new_disk/chenxin/relightable-nr/data/realdome_cx/rgb0/150//mask/055.png\n/data/NFS/new_disk/chenxin/relightable-nr/data/realdome_cx/rgb0/150//mask/image.cam57_000150.png\n/data/NFS/new_disk/chenxin/relightable-nr/data/realdome_cx/rgb0/150//mask/056.png\n/data/NFS/new_disk/chenxin/relightable-nr/data/realdome_cx/rgb0/150//mask/image.cam58_000150.png\n/data/NFS/new_disk/chenxin/relightable-nr/data/realdome_cx/rgb0/150//mask/057.png\n/data/NFS/new_disk/chenxin/relightable-nr/data/realdome_cx/rgb0/150//mask/image.cam59_000150.png\n/data/NFS/new_disk/chenxin/relightable-nr/data/realdome_cx/rgb0/150//mask/058.png\n/data/NFS/new_disk/chenxin/relightable-nr/data/realdome_cx/rgb0/150//mask/image.cam60_000150.png\n/data/NFS/new_disk/chenxin/relightable-nr/data/realdome_cx/rgb0/150//mask/059.png\n/data/NFS/new_disk/chenxin/relightable-nr/data/realdome_cx/rgb0/150//mask/image.cam61_000150.png\n/data/NFS/new_disk/chenxin/relightable-nr/data/realdome_cx/rgb0/150//mask/060.png\n/data/NFS/new_disk/chenxin/relightable-nr/data/realdome_cx/rgb0/150//mask/image.cam62_000150.png\n/data/NFS/new_disk/chenxin/relightable-nr/data/realdome_cx/rgb0/150//mask/061.png\n/data/NFS/new_disk/chenxin/relightable-nr/data/realdome_cx/rgb0/150//mask/image.cam63_000150.png\n/data/NFS/new_disk/chenxin/relightable-nr/data/realdome_cx/rgb0/150//mask/062.png\n/data/NFS/new_disk/chenxin/relightable-nr/data/realdome_cx/rgb0/150//mask/image.cam64_000150.png\n/data/NFS/new_disk/chenxin/relightable-nr/data/realdome_cx/rgb0/150//mask/063.png\n/data/NFS/new_disk/chenxin/relightable-nr/data/realdome_cx/rgb0/150//mask/image.cam65_000150.png\n/data/NFS/new_disk/chenxin/relightable-nr/data/realdome_cx/rgb0/150//mask/064.png\n/data/NFS/new_disk/chenxin/relightable-nr/data/realdome_cx/rgb0/150//mask/image.cam66_000150.png\n/data/NFS/new_disk/chenxin/relightable-nr/data/realdome_cx/rgb0/150//mask/065.png\n/data/NFS/new_disk/chenxin/relightable-nr/data/realdome_cx/rgb0/150//mask/image.cam67_000150.png\n/data/NFS/new_disk/chenxin/relightable-nr/data/realdome_cx/rgb0/150//mask/066.png\n/data/NFS/new_disk/chenxin/relightable-nr/data/realdome_cx/rgb0/150//mask/image.cam68_000150.png\n/data/NFS/new_disk/chenxin/relightable-nr/data/realdome_cx/rgb0/150//mask/067.png\n/data/NFS/new_disk/chenxin/relightable-nr/data/realdome_cx/rgb0/150//mask/image.cam69_000150.png\n/data/NFS/new_disk/chenxin/relightable-nr/data/realdome_cx/rgb0/150//mask/068.png\n/data/NFS/new_disk/chenxin/relightable-nr/data/realdome_cx/rgb0/150//mask/image.cam70_000150.png\n/data/NFS/new_disk/chenxin/relightable-nr/data/realdome_cx/rgb0/150//mask/069.png\n/data/NFS/new_disk/chenxin/relightable-nr/data/realdome_cx/rgb0/150//mask/image.cam71_000150.png\n/data/NFS/new_disk/chenxin/relightable-nr/data/realdome_cx/rgb0/150//mask/070.png\n/data/NFS/new_disk/chenxin/relightable-nr/data/realdome_cx/rgb0/150//mask/image.cam72_000150.png\n/data/NFS/new_disk/chenxin/relightable-nr/data/realdome_cx/rgb0/150//mask/071.png\n/data/NFS/new_disk/chenxin/relightable-nr/data/realdome_cx/rgb0/150//mask/image.cam73_000150.png\n/data/NFS/new_disk/chenxin/relightable-nr/data/realdome_cx/rgb0/150//mask/072.png\n/data/NFS/new_disk/chenxin/relightable-nr/data/realdome_cx/rgb0/150//mask/image.cam74_000150.png\n/data/NFS/new_disk/chenxin/relightable-nr/data/realdome_cx/rgb0/150//mask/073.png\n/data/NFS/new_disk/chenxin/relightable-nr/data/realdome_cx/rgb0/150//mask/image.cam75_000150.png\n/data/NFS/new_disk/chenxin/relightable-nr/data/realdome_cx/rgb0/150//mask/074.png\n/data/NFS/new_disk/chenxin/relightable-nr/data/realdome_cx/rgb0/150//mask/image.cam76_000150.png\n/data/NFS/new_disk/chenxin/relightable-nr/data/realdome_cx/rgb0/150//mask/075.png\n/data/NFS/new_disk/chenxin/relightable-nr/data/realdome_cx/rgb0/150//mask/image.cam77_000150.png\n/data/NFS/new_disk/chenxin/relightable-nr/data/realdome_cx/rgb0/150//mask/076.png\n/data/NFS/new_disk/chenxin/relightable-nr/data/realdome_cx/rgb0/150//mask/image.cam78_000150.png\n/data/NFS/new_disk/chenxin/relightable-nr/data/realdome_cx/rgb0/150//mask/077.png\n/data/NFS/new_disk/chenxin/relightable-nr/data/realdome_cx/rgb0/150//mask/image.cam79_000150.png\n/data/NFS/new_disk/chenxin/relightable-nr/data/realdome_cx/rgb0/150//mask/078.png\n/data/NFS/new_disk/chenxin/relightable-nr/data/realdome_cx/rgb0/150//mask/image.cam80_000150.png\n/data/NFS/new_disk/chenxin/relightable-nr/data/realdome_cx/rgb0/150//mask/079.png\n"
    }
   ],
   "source": [
    " path = '/data/NFS/new_disk/chenxin/relightable-nr/data/realdome_cx/rgb0/'\n",
    "# dirs = sorted(os.listdir(path))\n",
    "# for folder in dirs:\n",
    "#     filedirs = sorted(os.listdir(path+folder))\n",
    "#     for file in filedirs:\n",
    "#         if file[-4:] == '.png'\n",
    "#             newname = '%03d.png'%(int(file[:-4])-1)\n",
    "#             print(file)\n",
    "#             print(newname)\n",
    "#             os.rename(path+folder+'/'+file, path+folder+'/'+newname)\n",
    "\n",
    "# mesh lab function\n",
    "def meshlab_resave(modelname, outputname):\n",
    "    modelname = Path(modelname)\n",
    "    # meshlabserver = \"D:\\\\MeshLab\\\\meshlabserver.exe\"\n",
    "    scriptname = \" -s compute_v_normal.mlx\"\n",
    "    # output_params = \" -m vc\"\n",
    "    meshlabserver = \"meshlabserver\"\n",
    "    \n",
    "    cmd = meshlabserver + \" -i \" + str(modelname) + scriptname + \" -o \" + str(outputname) + \" -om vn\"\n",
    "    print(cmd)\n",
    "    os.system(cmd)\n",
    "\n",
    "# # rename image\n",
    "path = '/data/NFS/new_disk/chenxin/relightable-nr/data/realdome_cx/rgb0/'\n",
    "image_pattern = '/mask/image.cam%02d_%06d.png'\n",
    "new_pattern = '/mask/%03d.png'\n",
    "for iF in range(49,151):\n",
    "    for iC in range(1,81):\n",
    "        orig_path = path + str(iF) + '/' + image_pattern%(iC,iF)\n",
    "        new_path = path + str(iF) + '/' + new_pattern%(iC-1)\n",
    "        print(orig_path)\n",
    "        print(new_path)\n",
    "        os.rename(orig_path, new_path)\n",
    "\n",
    "# # move obj\n",
    "# #os.mkdir(path+'/../mesh')\n",
    "# obj_pattern = '/%d/3DDeformed/%d_nonrigidRefinded_test0327_13.ply'\n",
    "# new_obj_pattern = '../mesh/%03d.obj'\n",
    "# for iF in range(20,151):\n",
    "#     obj_path = path + obj_pattern%(iF,iF)\n",
    "#     new_path = path + new_obj_pattern%(iF)\n",
    "#     #meshlab_resave(obj_path, new_path)\n",
    "#     meshlab_resave(new_path, new_path)\n",
    "    \n",
    "# merge tex\n"
   ]
  },
  {
   "cell_type": "code",
   "execution_count": null,
   "metadata": {},
   "outputs": [],
   "source": []
  },
  {
   "cell_type": "code",
   "execution_count": null,
   "metadata": {},
   "outputs": [],
   "source": []
  },
  {
   "cell_type": "code",
   "execution_count": null,
   "metadata": {},
   "outputs": [],
   "source": []
  }
 ],
 "metadata": {
  "kernelspec": {
   "display_name": "Python 3",
   "language": "python",
   "name": "python3"
  },
  "language_info": {
   "codemirror_mode": {
    "name": "ipython",
    "version": 3
   },
   "file_extension": ".py",
   "mimetype": "text/x-python",
   "name": "python",
   "nbconvert_exporter": "python",
   "pygments_lexer": "ipython3",
   "version": "3.7.6-final"
  }
 },
 "nbformat": 4,
 "nbformat_minor": 2
}