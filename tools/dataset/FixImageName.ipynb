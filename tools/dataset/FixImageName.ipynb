{
 "cells": [
  {
   "cell_type": "code",
   "execution_count": 4,
   "metadata": {},
   "outputs": [],
   "source": [
    "import os\n",
    "from pathlib import *"
   ]
  },
  {
   "cell_type": "code",
   "execution_count": 6,
   "metadata": {
    "tags": [
     "outputPrepend"
    ]
   },
   "outputs": [
    {
     "output_type": "stream",
     "name": "stdout",
     "text": "r/data/realdome_cx/rgb0/47//image.cam42_000047.png\n/data/NFS/new_disk/chenxin/relightable-nr/data/realdome_cx/rgb0/47//041.png\n/data/NFS/new_disk/chenxin/relightable-nr/data/realdome_cx/rgb0/47//image.cam43_000047.png\n/data/NFS/new_disk/chenxin/relightable-nr/data/realdome_cx/rgb0/47//042.png\n/data/NFS/new_disk/chenxin/relightable-nr/data/realdome_cx/rgb0/47//image.cam44_000047.png\n/data/NFS/new_disk/chenxin/relightable-nr/data/realdome_cx/rgb0/47//043.png\n/data/NFS/new_disk/chenxin/relightable-nr/data/realdome_cx/rgb0/47//image.cam45_000047.png\n/data/NFS/new_disk/chenxin/relightable-nr/data/realdome_cx/rgb0/47//044.png\n/data/NFS/new_disk/chenxin/relightable-nr/data/realdome_cx/rgb0/47//image.cam46_000047.png\n/data/NFS/new_disk/chenxin/relightable-nr/data/realdome_cx/rgb0/47//045.png\n/data/NFS/new_disk/chenxin/relightable-nr/data/realdome_cx/rgb0/47//image.cam47_000047.png\n/data/NFS/new_disk/chenxin/relightable-nr/data/realdome_cx/rgb0/47//046.png\n/data/NFS/new_disk/chenxin/relightable-nr/data/realdome_cx/rgb0/47//image.cam48_000047.png\n/data/NFS/new_disk/chenxin/relightable-nr/data/realdome_cx/rgb0/47//047.png\n/data/NFS/new_disk/chenxin/relightable-nr/data/realdome_cx/rgb0/47//image.cam49_000047.png\n/data/NFS/new_disk/chenxin/relightable-nr/data/realdome_cx/rgb0/47//048.png\n/data/NFS/new_disk/chenxin/relightable-nr/data/realdome_cx/rgb0/47//image.cam50_000047.png\n/data/NFS/new_disk/chenxin/relightable-nr/data/realdome_cx/rgb0/47//049.png\n/data/NFS/new_disk/chenxin/relightable-nr/data/realdome_cx/rgb0/47//image.cam51_000047.png\n/data/NFS/new_disk/chenxin/relightable-nr/data/realdome_cx/rgb0/47//050.png\n/data/NFS/new_disk/chenxin/relightable-nr/data/realdome_cx/rgb0/47//image.cam52_000047.png\n/data/NFS/new_disk/chenxin/relightable-nr/data/realdome_cx/rgb0/47//051.png\n/data/NFS/new_disk/chenxin/relightable-nr/data/realdome_cx/rgb0/47//image.cam53_000047.png\n/data/NFS/new_disk/chenxin/relightable-nr/data/realdome_cx/rgb0/47//052.png\n/data/NFS/new_disk/chenxin/relightable-nr/data/realdome_cx/rgb0/47//image.cam54_000047.png\n/data/NFS/new_disk/chenxin/relightable-nr/data/realdome_cx/rgb0/47//053.png\n/data/NFS/new_disk/chenxin/relightable-nr/data/realdome_cx/rgb0/47//image.cam55_000047.png\n/data/NFS/new_disk/chenxin/relightable-nr/data/realdome_cx/rgb0/47//054.png\n/data/NFS/new_disk/chenxin/relightable-nr/data/realdome_cx/rgb0/47//image.cam56_000047.png\n/data/NFS/new_disk/chenxin/relightable-nr/data/realdome_cx/rgb0/47//055.png\n/data/NFS/new_disk/chenxin/relightable-nr/data/realdome_cx/rgb0/47//image.cam57_000047.png\n/data/NFS/new_disk/chenxin/relightable-nr/data/realdome_cx/rgb0/47//056.png\n/data/NFS/new_disk/chenxin/relightable-nr/data/realdome_cx/rgb0/47//image.cam58_000047.png\n/data/NFS/new_disk/chenxin/relightable-nr/data/realdome_cx/rgb0/47//057.png\n/data/NFS/new_disk/chenxin/relightable-nr/data/realdome_cx/rgb0/47//image.cam59_000047.png\n/data/NFS/new_disk/chenxin/relightable-nr/data/realdome_cx/rgb0/47//058.png\n/data/NFS/new_disk/chenxin/relightable-nr/data/realdome_cx/rgb0/47//image.cam60_000047.png\n/data/NFS/new_disk/chenxin/relightable-nr/data/realdome_cx/rgb0/47//059.png\n/data/NFS/new_disk/chenxin/relightable-nr/data/realdome_cx/rgb0/47//image.cam61_000047.png\n/data/NFS/new_disk/chenxin/relightable-nr/data/realdome_cx/rgb0/47//060.png\n/data/NFS/new_disk/chenxin/relightable-nr/data/realdome_cx/rgb0/47//image.cam62_000047.png\n/data/NFS/new_disk/chenxin/relightable-nr/data/realdome_cx/rgb0/47//061.png\n/data/NFS/new_disk/chenxin/relightable-nr/data/realdome_cx/rgb0/47//image.cam63_000047.png\n/data/NFS/new_disk/chenxin/relightable-nr/data/realdome_cx/rgb0/47//062.png\n/data/NFS/new_disk/chenxin/relightable-nr/data/realdome_cx/rgb0/47//image.cam64_000047.png\n/data/NFS/new_disk/chenxin/relightable-nr/data/realdome_cx/rgb0/47//063.png\n/data/NFS/new_disk/chenxin/relightable-nr/data/realdome_cx/rgb0/47//image.cam65_000047.png\n/data/NFS/new_disk/chenxin/relightable-nr/data/realdome_cx/rgb0/47//064.png\n/data/NFS/new_disk/chenxin/relightable-nr/data/realdome_cx/rgb0/47//image.cam66_000047.png\n/data/NFS/new_disk/chenxin/relightable-nr/data/realdome_cx/rgb0/47//065.png\n/data/NFS/new_disk/chenxin/relightable-nr/data/realdome_cx/rgb0/47//image.cam67_000047.png\n/data/NFS/new_disk/chenxin/relightable-nr/data/realdome_cx/rgb0/47//066.png\n/data/NFS/new_disk/chenxin/relightable-nr/data/realdome_cx/rgb0/47//image.cam68_000047.png\n/data/NFS/new_disk/chenxin/relightable-nr/data/realdome_cx/rgb0/47//067.png\n/data/NFS/new_disk/chenxin/relightable-nr/data/realdome_cx/rgb0/47//image.cam69_000047.png\n/data/NFS/new_disk/chenxin/relightable-nr/data/realdome_cx/rgb0/47//068.png\n/data/NFS/new_disk/chenxin/relightable-nr/data/realdome_cx/rgb0/47//image.cam70_000047.png\n/data/NFS/new_disk/chenxin/relightable-nr/data/realdome_cx/rgb0/47//069.png\n/data/NFS/new_disk/chenxin/relightable-nr/data/realdome_cx/rgb0/47//image.cam71_000047.png\n/data/NFS/new_disk/chenxin/relightable-nr/data/realdome_cx/rgb0/47//070.png\n/data/NFS/new_disk/chenxin/relightable-nr/data/realdome_cx/rgb0/47//image.cam72_000047.png\n/data/NFS/new_disk/chenxin/relightable-nr/data/realdome_cx/rgb0/47//071.png\n/data/NFS/new_disk/chenxin/relightable-nr/data/realdome_cx/rgb0/47//image.cam73_000047.png\n/data/NFS/new_disk/chenxin/relightable-nr/data/realdome_cx/rgb0/47//072.png\n/data/NFS/new_disk/chenxin/relightable-nr/data/realdome_cx/rgb0/47//image.cam74_000047.png\n/data/NFS/new_disk/chenxin/relightable-nr/data/realdome_cx/rgb0/47//073.png\n/data/NFS/new_disk/chenxin/relightable-nr/data/realdome_cx/rgb0/47//image.cam75_000047.png\n/data/NFS/new_disk/chenxin/relightable-nr/data/realdome_cx/rgb0/47//074.png\n/data/NFS/new_disk/chenxin/relightable-nr/data/realdome_cx/rgb0/47//image.cam76_000047.png\n/data/NFS/new_disk/chenxin/relightable-nr/data/realdome_cx/rgb0/47//075.png\n/data/NFS/new_disk/chenxin/relightable-nr/data/realdome_cx/rgb0/47//image.cam77_000047.png\n/data/NFS/new_disk/chenxin/relightable-nr/data/realdome_cx/rgb0/47//076.png\n/data/NFS/new_disk/chenxin/relightable-nr/data/realdome_cx/rgb0/47//image.cam78_000047.png\n/data/NFS/new_disk/chenxin/relightable-nr/data/realdome_cx/rgb0/47//077.png\n/data/NFS/new_disk/chenxin/relightable-nr/data/realdome_cx/rgb0/47//image.cam79_000047.png\n/data/NFS/new_disk/chenxin/relightable-nr/data/realdome_cx/rgb0/47//078.png\n/data/NFS/new_disk/chenxin/relightable-nr/data/realdome_cx/rgb0/47//image.cam80_000047.png\n/data/NFS/new_disk/chenxin/relightable-nr/data/realdome_cx/rgb0/47//079.png\n/data/NFS/new_disk/chenxin/relightable-nr/data/realdome_cx/rgb0/48//image.cam01_000048.png\n/data/NFS/new_disk/chenxin/relightable-nr/data/realdome_cx/rgb0/48//000.png\n/data/NFS/new_disk/chenxin/relightable-nr/data/realdome_cx/rgb0/48//image.cam02_000048.png\n/data/NFS/new_disk/chenxin/relightable-nr/data/realdome_cx/rgb0/48//001.png\n/data/NFS/new_disk/chenxin/relightable-nr/data/realdome_cx/rgb0/48//image.cam03_000048.png\n/data/NFS/new_disk/chenxin/relightable-nr/data/realdome_cx/rgb0/48//002.png\n/data/NFS/new_disk/chenxin/relightable-nr/data/realdome_cx/rgb0/48//image.cam04_000048.png\n/data/NFS/new_disk/chenxin/relightable-nr/data/realdome_cx/rgb0/48//003.png\n/data/NFS/new_disk/chenxin/relightable-nr/data/realdome_cx/rgb0/48//image.cam05_000048.png\n/data/NFS/new_disk/chenxin/relightable-nr/data/realdome_cx/rgb0/48//004.png\n/data/NFS/new_disk/chenxin/relightable-nr/data/realdome_cx/rgb0/48//image.cam06_000048.png\n/data/NFS/new_disk/chenxin/relightable-nr/data/realdome_cx/rgb0/48//005.png\n/data/NFS/new_disk/chenxin/relightable-nr/data/realdome_cx/rgb0/48//image.cam07_000048.png\n/data/NFS/new_disk/chenxin/relightable-nr/data/realdome_cx/rgb0/48//006.png\n/data/NFS/new_disk/chenxin/relightable-nr/data/realdome_cx/rgb0/48//image.cam08_000048.png\n/data/NFS/new_disk/chenxin/relightable-nr/data/realdome_cx/rgb0/48//007.png\n/data/NFS/new_disk/chenxin/relightable-nr/data/realdome_cx/rgb0/48//image.cam09_000048.png\n/data/NFS/new_disk/chenxin/relightable-nr/data/realdome_cx/rgb0/48//008.png\n/data/NFS/new_disk/chenxin/relightable-nr/data/realdome_cx/rgb0/48//image.cam10_000048.png\n/data/NFS/new_disk/chenxin/relightable-nr/data/realdome_cx/rgb0/48//009.png\n/data/NFS/new_disk/chenxin/relightable-nr/data/realdome_cx/rgb0/48//image.cam11_000048.png\n/data/NFS/new_disk/chenxin/relightable-nr/data/realdome_cx/rgb0/48//010.png\n/data/NFS/new_disk/chenxin/relightable-nr/data/realdome_cx/rgb0/48//image.cam12_000048.png\n/data/NFS/new_disk/chenxin/relightable-nr/data/realdome_cx/rgb0/48//011.png\n/data/NFS/new_disk/chenxin/relightable-nr/data/realdome_cx/rgb0/48//image.cam13_000048.png\n/data/NFS/new_disk/chenxin/relightable-nr/data/realdome_cx/rgb0/48//012.png\n/data/NFS/new_disk/chenxin/relightable-nr/data/realdome_cx/rgb0/48//image.cam14_000048.png\n/data/NFS/new_disk/chenxin/relightable-nr/data/realdome_cx/rgb0/48//013.png\n/data/NFS/new_disk/chenxin/relightable-nr/data/realdome_cx/rgb0/48//image.cam15_000048.png\n/data/NFS/new_disk/chenxin/relightable-nr/data/realdome_cx/rgb0/48//014.png\n/data/NFS/new_disk/chenxin/relightable-nr/data/realdome_cx/rgb0/48//image.cam16_000048.png\n/data/NFS/new_disk/chenxin/relightable-nr/data/realdome_cx/rgb0/48//015.png\n/data/NFS/new_disk/chenxin/relightable-nr/data/realdome_cx/rgb0/48//image.cam17_000048.png\n/data/NFS/new_disk/chenxin/relightable-nr/data/realdome_cx/rgb0/48//016.png\n/data/NFS/new_disk/chenxin/relightable-nr/data/realdome_cx/rgb0/48//image.cam18_000048.png\n/data/NFS/new_disk/chenxin/relightable-nr/data/realdome_cx/rgb0/48//017.png\n/data/NFS/new_disk/chenxin/relightable-nr/data/realdome_cx/rgb0/48//image.cam19_000048.png\n/data/NFS/new_disk/chenxin/relightable-nr/data/realdome_cx/rgb0/48//018.png\n/data/NFS/new_disk/chenxin/relightable-nr/data/realdome_cx/rgb0/48//image.cam20_000048.png\n/data/NFS/new_disk/chenxin/relightable-nr/data/realdome_cx/rgb0/48//019.png\n/data/NFS/new_disk/chenxin/relightable-nr/data/realdome_cx/rgb0/48//image.cam21_000048.png\n/data/NFS/new_disk/chenxin/relightable-nr/data/realdome_cx/rgb0/48//020.png\n/data/NFS/new_disk/chenxin/relightable-nr/data/realdome_cx/rgb0/48//image.cam22_000048.png\n/data/NFS/new_disk/chenxin/relightable-nr/data/realdome_cx/rgb0/48//021.png\n/data/NFS/new_disk/chenxin/relightable-nr/data/realdome_cx/rgb0/48//image.cam23_000048.png\n/data/NFS/new_disk/chenxin/relightable-nr/data/realdome_cx/rgb0/48//022.png\n/data/NFS/new_disk/chenxin/relightable-nr/data/realdome_cx/rgb0/48//image.cam24_000048.png\n/data/NFS/new_disk/chenxin/relightable-nr/data/realdome_cx/rgb0/48//023.png\n/data/NFS/new_disk/chenxin/relightable-nr/data/realdome_cx/rgb0/48//image.cam25_000048.png\n/data/NFS/new_disk/chenxin/relightable-nr/data/realdome_cx/rgb0/48//024.png\n/data/NFS/new_disk/chenxin/relightable-nr/data/realdome_cx/rgb0/48//image.cam26_000048.png\n/data/NFS/new_disk/chenxin/relightable-nr/data/realdome_cx/rgb0/48//025.png\n/data/NFS/new_disk/chenxin/relightable-nr/data/realdome_cx/rgb0/48//image.cam27_000048.png\n/data/NFS/new_disk/chenxin/relightable-nr/data/realdome_cx/rgb0/48//026.png\n/data/NFS/new_disk/chenxin/relightable-nr/data/realdome_cx/rgb0/48//image.cam28_000048.png\n/data/NFS/new_disk/chenxin/relightable-nr/data/realdome_cx/rgb0/48//027.png\n/data/NFS/new_disk/chenxin/relightable-nr/data/realdome_cx/rgb0/48//image.cam29_000048.png\n/data/NFS/new_disk/chenxin/relightable-nr/data/realdome_cx/rgb0/48//028.png\n/data/NFS/new_disk/chenxin/relightable-nr/data/realdome_cx/rgb0/48//image.cam30_000048.png\n/data/NFS/new_disk/chenxin/relightable-nr/data/realdome_cx/rgb0/48//029.png\n/data/NFS/new_disk/chenxin/relightable-nr/data/realdome_cx/rgb0/48//image.cam31_000048.png\n/data/NFS/new_disk/chenxin/relightable-nr/data/realdome_cx/rgb0/48//030.png\n/data/NFS/new_disk/chenxin/relightable-nr/data/realdome_cx/rgb0/48//image.cam32_000048.png\n/data/NFS/new_disk/chenxin/relightable-nr/data/realdome_cx/rgb0/48//031.png\n/data/NFS/new_disk/chenxin/relightable-nr/data/realdome_cx/rgb0/48//image.cam33_000048.png\n/data/NFS/new_disk/chenxin/relightable-nr/data/realdome_cx/rgb0/48//032.png\n/data/NFS/new_disk/chenxin/relightable-nr/data/realdome_cx/rgb0/48//image.cam34_000048.png\n/data/NFS/new_disk/chenxin/relightable-nr/data/realdome_cx/rgb0/48//033.png\n/data/NFS/new_disk/chenxin/relightable-nr/data/realdome_cx/rgb0/48//image.cam35_000048.png\n/data/NFS/new_disk/chenxin/relightable-nr/data/realdome_cx/rgb0/48//034.png\n/data/NFS/new_disk/chenxin/relightable-nr/data/realdome_cx/rgb0/48//image.cam36_000048.png\n/data/NFS/new_disk/chenxin/relightable-nr/data/realdome_cx/rgb0/48//035.png\n/data/NFS/new_disk/chenxin/relightable-nr/data/realdome_cx/rgb0/48//image.cam37_000048.png\n/data/NFS/new_disk/chenxin/relightable-nr/data/realdome_cx/rgb0/48//036.png\n/data/NFS/new_disk/chenxin/relightable-nr/data/realdome_cx/rgb0/48//image.cam38_000048.png\n/data/NFS/new_disk/chenxin/relightable-nr/data/realdome_cx/rgb0/48//037.png\n/data/NFS/new_disk/chenxin/relightable-nr/data/realdome_cx/rgb0/48//image.cam39_000048.png\n/data/NFS/new_disk/chenxin/relightable-nr/data/realdome_cx/rgb0/48//038.png\n/data/NFS/new_disk/chenxin/relightable-nr/data/realdome_cx/rgb0/48//image.cam40_000048.png\n/data/NFS/new_disk/chenxin/relightable-nr/data/realdome_cx/rgb0/48//039.png\n/data/NFS/new_disk/chenxin/relightable-nr/data/realdome_cx/rgb0/48//image.cam41_000048.png\n/data/NFS/new_disk/chenxin/relightable-nr/data/realdome_cx/rgb0/48//040.png\n/data/NFS/new_disk/chenxin/relightable-nr/data/realdome_cx/rgb0/48//image.cam42_000048.png\n/data/NFS/new_disk/chenxin/relightable-nr/data/realdome_cx/rgb0/48//041.png\n/data/NFS/new_disk/chenxin/relightable-nr/data/realdome_cx/rgb0/48//image.cam43_000048.png\n/data/NFS/new_disk/chenxin/relightable-nr/data/realdome_cx/rgb0/48//042.png\n/data/NFS/new_disk/chenxin/relightable-nr/data/realdome_cx/rgb0/48//image.cam44_000048.png\n/data/NFS/new_disk/chenxin/relightable-nr/data/realdome_cx/rgb0/48//043.png\n/data/NFS/new_disk/chenxin/relightable-nr/data/realdome_cx/rgb0/48//image.cam45_000048.png\n/data/NFS/new_disk/chenxin/relightable-nr/data/realdome_cx/rgb0/48//044.png\n/data/NFS/new_disk/chenxin/relightable-nr/data/realdome_cx/rgb0/48//image.cam46_000048.png\n/data/NFS/new_disk/chenxin/relightable-nr/data/realdome_cx/rgb0/48//045.png\n/data/NFS/new_disk/chenxin/relightable-nr/data/realdome_cx/rgb0/48//image.cam47_000048.png\n/data/NFS/new_disk/chenxin/relightable-nr/data/realdome_cx/rgb0/48//046.png\n/data/NFS/new_disk/chenxin/relightable-nr/data/realdome_cx/rgb0/48//image.cam48_000048.png\n/data/NFS/new_disk/chenxin/relightable-nr/data/realdome_cx/rgb0/48//047.png\n/data/NFS/new_disk/chenxin/relightable-nr/data/realdome_cx/rgb0/48//image.cam49_000048.png\n/data/NFS/new_disk/chenxin/relightable-nr/data/realdome_cx/rgb0/48//048.png\n/data/NFS/new_disk/chenxin/relightable-nr/data/realdome_cx/rgb0/48//image.cam50_000048.png\n/data/NFS/new_disk/chenxin/relightable-nr/data/realdome_cx/rgb0/48//049.png\n/data/NFS/new_disk/chenxin/relightable-nr/data/realdome_cx/rgb0/48//image.cam51_000048.png\n/data/NFS/new_disk/chenxin/relightable-nr/data/realdome_cx/rgb0/48//050.png\n/data/NFS/new_disk/chenxin/relightable-nr/data/realdome_cx/rgb0/48//image.cam52_000048.png\n/data/NFS/new_disk/chenxin/relightable-nr/data/realdome_cx/rgb0/48//051.png\n/data/NFS/new_disk/chenxin/relightable-nr/data/realdome_cx/rgb0/48//image.cam53_000048.png\n/data/NFS/new_disk/chenxin/relightable-nr/data/realdome_cx/rgb0/48//052.png\n/data/NFS/new_disk/chenxin/relightable-nr/data/realdome_cx/rgb0/48//image.cam54_000048.png\n/data/NFS/new_disk/chenxin/relightable-nr/data/realdome_cx/rgb0/48//053.png\n/data/NFS/new_disk/chenxin/relightable-nr/data/realdome_cx/rgb0/48//image.cam55_000048.png\n/data/NFS/new_disk/chenxin/relightable-nr/data/realdome_cx/rgb0/48//054.png\n/data/NFS/new_disk/chenxin/relightable-nr/data/realdome_cx/rgb0/48//image.cam56_000048.png\n/data/NFS/new_disk/chenxin/relightable-nr/data/realdome_cx/rgb0/48//055.png\n/data/NFS/new_disk/chenxin/relightable-nr/data/realdome_cx/rgb0/48//image.cam57_000048.png\n/data/NFS/new_disk/chenxin/relightable-nr/data/realdome_cx/rgb0/48//056.png\n/data/NFS/new_disk/chenxin/relightable-nr/data/realdome_cx/rgb0/48//image.cam58_000048.png\n/data/NFS/new_disk/chenxin/relightable-nr/data/realdome_cx/rgb0/48//057.png\n/data/NFS/new_disk/chenxin/relightable-nr/data/realdome_cx/rgb0/48//image.cam59_000048.png\n/data/NFS/new_disk/chenxin/relightable-nr/data/realdome_cx/rgb0/48//058.png\n/data/NFS/new_disk/chenxin/relightable-nr/data/realdome_cx/rgb0/48//image.cam60_000048.png\n/data/NFS/new_disk/chenxin/relightable-nr/data/realdome_cx/rgb0/48//059.png\n/data/NFS/new_disk/chenxin/relightable-nr/data/realdome_cx/rgb0/48//image.cam61_000048.png\n/data/NFS/new_disk/chenxin/relightable-nr/data/realdome_cx/rgb0/48//060.png\n/data/NFS/new_disk/chenxin/relightable-nr/data/realdome_cx/rgb0/48//image.cam62_000048.png\n/data/NFS/new_disk/chenxin/relightable-nr/data/realdome_cx/rgb0/48//061.png\n/data/NFS/new_disk/chenxin/relightable-nr/data/realdome_cx/rgb0/48//image.cam63_000048.png\n/data/NFS/new_disk/chenxin/relightable-nr/data/realdome_cx/rgb0/48//062.png\n/data/NFS/new_disk/chenxin/relightable-nr/data/realdome_cx/rgb0/48//image.cam64_000048.png\n/data/NFS/new_disk/chenxin/relightable-nr/data/realdome_cx/rgb0/48//063.png\n/data/NFS/new_disk/chenxin/relightable-nr/data/realdome_cx/rgb0/48//image.cam65_000048.png\n/data/NFS/new_disk/chenxin/relightable-nr/data/realdome_cx/rgb0/48//064.png\n/data/NFS/new_disk/chenxin/relightable-nr/data/realdome_cx/rgb0/48//image.cam66_000048.png\n/data/NFS/new_disk/chenxin/relightable-nr/data/realdome_cx/rgb0/48//065.png\n/data/NFS/new_disk/chenxin/relightable-nr/data/realdome_cx/rgb0/48//image.cam67_000048.png\n/data/NFS/new_disk/chenxin/relightable-nr/data/realdome_cx/rgb0/48//066.png\n/data/NFS/new_disk/chenxin/relightable-nr/data/realdome_cx/rgb0/48//image.cam68_000048.png\n/data/NFS/new_disk/chenxin/relightable-nr/data/realdome_cx/rgb0/48//067.png\n/data/NFS/new_disk/chenxin/relightable-nr/data/realdome_cx/rgb0/48//image.cam69_000048.png\n/data/NFS/new_disk/chenxin/relightable-nr/data/realdome_cx/rgb0/48//068.png\n/data/NFS/new_disk/chenxin/relightable-nr/data/realdome_cx/rgb0/48//image.cam70_000048.png\n/data/NFS/new_disk/chenxin/relightable-nr/data/realdome_cx/rgb0/48//069.png\n/data/NFS/new_disk/chenxin/relightable-nr/data/realdome_cx/rgb0/48//image.cam71_000048.png\n/data/NFS/new_disk/chenxin/relightable-nr/data/realdome_cx/rgb0/48//070.png\n/data/NFS/new_disk/chenxin/relightable-nr/data/realdome_cx/rgb0/48//image.cam72_000048.png\n/data/NFS/new_disk/chenxin/relightable-nr/data/realdome_cx/rgb0/48//071.png\n/data/NFS/new_disk/chenxin/relightable-nr/data/realdome_cx/rgb0/48//image.cam73_000048.png\n/data/NFS/new_disk/chenxin/relightable-nr/data/realdome_cx/rgb0/48//072.png\n/data/NFS/new_disk/chenxin/relightable-nr/data/realdome_cx/rgb0/48//image.cam74_000048.png\n/data/NFS/new_disk/chenxin/relightable-nr/data/realdome_cx/rgb0/48//073.png\n/data/NFS/new_disk/chenxin/relightable-nr/data/realdome_cx/rgb0/48//image.cam75_000048.png\n/data/NFS/new_disk/chenxin/relightable-nr/data/realdome_cx/rgb0/48//074.png\n/data/NFS/new_disk/chenxin/relightable-nr/data/realdome_cx/rgb0/48//image.cam76_000048.png\n/data/NFS/new_disk/chenxin/relightable-nr/data/realdome_cx/rgb0/48//075.png\n/data/NFS/new_disk/chenxin/relightable-nr/data/realdome_cx/rgb0/48//image.cam77_000048.png\n/data/NFS/new_disk/chenxin/relightable-nr/data/realdome_cx/rgb0/48//076.png\n/data/NFS/new_disk/chenxin/relightable-nr/data/realdome_cx/rgb0/48//image.cam78_000048.png\n/data/NFS/new_disk/chenxin/relightable-nr/data/realdome_cx/rgb0/48//077.png\n/data/NFS/new_disk/chenxin/relightable-nr/data/realdome_cx/rgb0/48//image.cam79_000048.png\n/data/NFS/new_disk/chenxin/relightable-nr/data/realdome_cx/rgb0/48//078.png\n/data/NFS/new_disk/chenxin/relightable-nr/data/realdome_cx/rgb0/48//image.cam80_000048.png\n/data/NFS/new_disk/chenxin/relightable-nr/data/realdome_cx/rgb0/48//079.png\n/data/NFS/new_disk/chenxin/relightable-nr/data/realdome_cx/rgb0/49//image.cam01_000049.png\n/data/NFS/new_disk/chenxin/relightable-nr/data/realdome_cx/rgb0/49//000.png\n"
    },
    {
     "output_type": "error",
     "ename": "FileNotFoundError",
     "evalue": "[Errno 2] No such file or directory: '/data/NFS/new_disk/chenxin/relightable-nr/data/realdome_cx/rgb0/49//image.cam01_000049.png' -> '/data/NFS/new_disk/chenxin/relightable-nr/data/realdome_cx/rgb0/49//000.png'",
     "traceback": [
      "\u001b[0;31m---------------------------------------------------------------------------\u001b[0m",
      "\u001b[0;31mFileNotFoundError\u001b[0m                         Traceback (most recent call last)",
      "\u001b[0;32m<ipython-input-6-b12d06f7c1e3>\u001b[0m in \u001b[0;36m<module>\u001b[0;34m\u001b[0m\n\u001b[1;32m     32\u001b[0m        \u001b[0mprint\u001b[0m\u001b[0;34m(\u001b[0m\u001b[0morig_path\u001b[0m\u001b[0;34m)\u001b[0m\u001b[0;34m\u001b[0m\u001b[0;34m\u001b[0m\u001b[0m\n\u001b[1;32m     33\u001b[0m        \u001b[0mprint\u001b[0m\u001b[0;34m(\u001b[0m\u001b[0mnew_path\u001b[0m\u001b[0;34m)\u001b[0m\u001b[0;34m\u001b[0m\u001b[0;34m\u001b[0m\u001b[0m\n\u001b[0;32m---> 34\u001b[0;31m        \u001b[0mos\u001b[0m\u001b[0;34m.\u001b[0m\u001b[0mrename\u001b[0m\u001b[0;34m(\u001b[0m\u001b[0morig_path\u001b[0m\u001b[0;34m,\u001b[0m \u001b[0mnew_path\u001b[0m\u001b[0;34m)\u001b[0m\u001b[0;34m\u001b[0m\u001b[0;34m\u001b[0m\u001b[0m\n\u001b[0m\u001b[1;32m     35\u001b[0m \u001b[0;34m\u001b[0m\u001b[0m\n\u001b[1;32m     36\u001b[0m \u001b[0;31m# # move obj\u001b[0m\u001b[0;34m\u001b[0m\u001b[0;34m\u001b[0m\u001b[0;34m\u001b[0m\u001b[0m\n",
      "\u001b[0;31mFileNotFoundError\u001b[0m: [Errno 2] No such file or directory: '/data/NFS/new_disk/chenxin/relightable-nr/data/realdome_cx/rgb0/49//image.cam01_000049.png' -> '/data/NFS/new_disk/chenxin/relightable-nr/data/realdome_cx/rgb0/49//000.png'"
     ]
    }
   ],
   "source": [
    " path = '/data/NFS/new_disk/chenxin/relightable-nr/data/realdome_cx/rgb0/'\n",
    "# dirs = sorted(os.listdir(path))\n",
    "# for folder in dirs:\n",
    "#     filedirs = sorted(os.listdir(path+folder))\n",
    "#     for file in filedirs:\n",
    "#         if file[-4:] == '.png'\n",
    "#             newname = '%03d.png'%(int(file[:-4])-1)\n",
    "#             print(file)\n",
    "#             print(newname)\n",
    "#             os.rename(path+folder+'/'+file, path+folder+'/'+newname)\n",
    "\n",
    "# mesh lab function\n",
    "def meshlab_resave(modelname, outputname):\n",
    "    modelname = Path(modelname)\n",
    "    # meshlabserver = \"D:\\\\MeshLab\\\\meshlabserver.exe\"\n",
    "    scriptname = \" -s compute_v_normal.mlx\"\n",
    "    # output_params = \" -m vc\"\n",
    "    meshlabserver = \"meshlabserver\"\n",
    "    \n",
    "    cmd = meshlabserver + \" -i \" + str(modelname) + scriptname + \" -o \" + str(outputname) + \" -om vn\"\n",
    "    print(cmd)\n",
    "    os.system(cmd)\n",
    "\n",
    "# # rename image\n",
    "path = '/data/NFS/new_disk/chenxin/relightable-nr/data/realdome_cx/rgb0/'\n",
    "image_pattern = '/image.cam%02d_%06d.png'\n",
    "new_pattern = '/%03d.png'\n",
    "for iF in range(20,151):\n",
    "    for iC in range(1,81):\n",
    "        orig_path = path + str(iF) + '/' + image_pattern%(iC,iF)\n",
    "        new_path = path + str(iF) + '/' + new_pattern%(iC-1)\n",
    "        print(orig_path)\n",
    "        print(new_path)\n",
    "        os.rename(orig_path, new_path)\n",
    "\n",
    "# # move obj\n",
    "# #os.mkdir(path+'/../mesh')\n",
    "# obj_pattern = '/%d/3DDeformed/%d_nonrigidRefinded_test0327_13.ply'\n",
    "# new_obj_pattern = '../mesh/%03d.obj'\n",
    "# for iF in range(20,151):\n",
    "#     obj_path = path + obj_pattern%(iF,iF)\n",
    "#     new_path = path + new_obj_pattern%(iF)\n",
    "#     #meshlab_resave(obj_path, new_path)\n",
    "#     meshlab_resave(new_path, new_path)\n",
    "    \n",
    "# merge tex\n"
   ]
  },
  {
   "cell_type": "code",
   "execution_count": null,
   "metadata": {},
   "outputs": [],
   "source": []
  },
  {
   "cell_type": "code",
   "execution_count": null,
   "metadata": {},
   "outputs": [],
   "source": []
  },
  {
   "cell_type": "code",
   "execution_count": null,
   "metadata": {},
   "outputs": [],
   "source": []
  }
 ],
 "metadata": {
  "kernelspec": {
   "display_name": "Python 3",
   "language": "python",
   "name": "python3"
  },
  "language_info": {
   "codemirror_mode": {
    "name": "ipython",
    "version": 3
   },
   "file_extension": ".py",
   "mimetype": "text/x-python",
   "name": "python",
   "nbconvert_exporter": "python",
   "pygments_lexer": "ipython3",
   "version": "3.7.6-final"
  }
 },
 "nbformat": 4,
 "nbformat_minor": 2
}