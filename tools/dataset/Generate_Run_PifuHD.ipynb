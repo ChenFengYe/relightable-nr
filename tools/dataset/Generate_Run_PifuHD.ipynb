{
 "cells": [
  {
   "cell_type": "code",
   "execution_count": 1,
   "metadata": {},
   "outputs": [],
   "source": [
    "import os\n",
    "from pathlib import *"
   ]
  },
  {
   "cell_type": "code",
   "execution_count": 2,
   "metadata": {
    "tags": [
     "outputPrepend"
    ]
   },
   "outputs": [
    {
     "output_type": "stream",
     "name": "stdout",
     "text": "elightable-nr/data/realdome_cx/rgb0/../mesh/056.obj -s compute_v_normal.mlx -o /data/NFS/new_disk/chenxin/relightable-nr/data/realdome_cx/rgb0/../mesh/056.obj -om vn\nmeshlabserver -i /data/NFS/new_disk/chenxin/relightable-nr/data/realdome_cx/rgb0/../mesh/057.obj -s compute_v_normal.mlx -o /data/NFS/new_disk/chenxin/relightable-nr/data/realdome_cx/rgb0/../mesh/057.obj -om vn\nmeshlabserver -i /data/NFS/new_disk/chenxin/relightable-nr/data/realdome_cx/rgb0/../mesh/058.obj -s compute_v_normal.mlx -o /data/NFS/new_disk/chenxin/relightable-nr/data/realdome_cx/rgb0/../mesh/058.obj -om vn\nmeshlabserver -i /data/NFS/new_disk/chenxin/relightable-nr/data/realdome_cx/rgb0/../mesh/059.obj -s compute_v_normal.mlx -o /data/NFS/new_disk/chenxin/relightable-nr/data/realdome_cx/rgb0/../mesh/059.obj -om vn\nmeshlabserver -i /data/NFS/new_disk/chenxin/relightable-nr/data/realdome_cx/rgb0/../mesh/060.obj -s compute_v_normal.mlx -o /data/NFS/new_disk/chenxin/relightable-nr/data/realdome_cx/rgb0/../mesh/060.obj -om vn\nmeshlabserver -i /data/NFS/new_disk/chenxin/relightable-nr/data/realdome_cx/rgb0/../mesh/061.obj -s compute_v_normal.mlx -o /data/NFS/new_disk/chenxin/relightable-nr/data/realdome_cx/rgb0/../mesh/061.obj -om vn\nmeshlabserver -i /data/NFS/new_disk/chenxin/relightable-nr/data/realdome_cx/rgb0/../mesh/062.obj -s compute_v_normal.mlx -o /data/NFS/new_disk/chenxin/relightable-nr/data/realdome_cx/rgb0/../mesh/062.obj -om vn\nmeshlabserver -i /data/NFS/new_disk/chenxin/relightable-nr/data/realdome_cx/rgb0/../mesh/063.obj -s compute_v_normal.mlx -o /data/NFS/new_disk/chenxin/relightable-nr/data/realdome_cx/rgb0/../mesh/063.obj -om vn\nmeshlabserver -i /data/NFS/new_disk/chenxin/relightable-nr/data/realdome_cx/rgb0/../mesh/064.obj -s compute_v_normal.mlx -o /data/NFS/new_disk/chenxin/relightable-nr/data/realdome_cx/rgb0/../mesh/064.obj -om vn\nmeshlabserver -i /data/NFS/new_disk/chenxin/relightable-nr/data/realdome_cx/rgb0/../mesh/065.obj -s compute_v_normal.mlx -o /data/NFS/new_disk/chenxin/relightable-nr/data/realdome_cx/rgb0/../mesh/065.obj -om vn\nmeshlabserver -i /data/NFS/new_disk/chenxin/relightable-nr/data/realdome_cx/rgb0/../mesh/066.obj -s compute_v_normal.mlx -o /data/NFS/new_disk/chenxin/relightable-nr/data/realdome_cx/rgb0/../mesh/066.obj -om vn\nmeshlabserver -i /data/NFS/new_disk/chenxin/relightable-nr/data/realdome_cx/rgb0/../mesh/067.obj -s compute_v_normal.mlx -o /data/NFS/new_disk/chenxin/relightable-nr/data/realdome_cx/rgb0/../mesh/067.obj -om vn\nmeshlabserver -i /data/NFS/new_disk/chenxin/relightable-nr/data/realdome_cx/rgb0/../mesh/068.obj -s compute_v_normal.mlx -o /data/NFS/new_disk/chenxin/relightable-nr/data/realdome_cx/rgb0/../mesh/068.obj -om vn\nmeshlabserver -i /data/NFS/new_disk/chenxin/relightable-nr/data/realdome_cx/rgb0/../mesh/069.obj -s compute_v_normal.mlx -o /data/NFS/new_disk/chenxin/relightable-nr/data/realdome_cx/rgb0/../mesh/069.obj -om vn\nmeshlabserver -i /data/NFS/new_disk/chenxin/relightable-nr/data/realdome_cx/rgb0/../mesh/070.obj -s compute_v_normal.mlx -o /data/NFS/new_disk/chenxin/relightable-nr/data/realdome_cx/rgb0/../mesh/070.obj -om vn\nmeshlabserver -i /data/NFS/new_disk/chenxin/relightable-nr/data/realdome_cx/rgb0/../mesh/071.obj -s compute_v_normal.mlx -o /data/NFS/new_disk/chenxin/relightable-nr/data/realdome_cx/rgb0/../mesh/071.obj -om vn\nmeshlabserver -i /data/NFS/new_disk/chenxin/relightable-nr/data/realdome_cx/rgb0/../mesh/072.obj -s compute_v_normal.mlx -o /data/NFS/new_disk/chenxin/relightable-nr/data/realdome_cx/rgb0/../mesh/072.obj -om vn\nmeshlabserver -i /data/NFS/new_disk/chenxin/relightable-nr/data/realdome_cx/rgb0/../mesh/073.obj -s compute_v_normal.mlx -o /data/NFS/new_disk/chenxin/relightable-nr/data/realdome_cx/rgb0/../mesh/073.obj -om vn\nmeshlabserver -i /data/NFS/new_disk/chenxin/relightable-nr/data/realdome_cx/rgb0/../mesh/074.obj -s compute_v_normal.mlx -o /data/NFS/new_disk/chenxin/relightable-nr/data/realdome_cx/rgb0/../mesh/074.obj -om vn\nmeshlabserver -i /data/NFS/new_disk/chenxin/relightable-nr/data/realdome_cx/rgb0/../mesh/075.obj -s compute_v_normal.mlx -o /data/NFS/new_disk/chenxin/relightable-nr/data/realdome_cx/rgb0/../mesh/075.obj -om vn\nmeshlabserver -i /data/NFS/new_disk/chenxin/relightable-nr/data/realdome_cx/rgb0/../mesh/076.obj -s compute_v_normal.mlx -o /data/NFS/new_disk/chenxin/relightable-nr/data/realdome_cx/rgb0/../mesh/076.obj -om vn\nmeshlabserver -i /data/NFS/new_disk/chenxin/relightable-nr/data/realdome_cx/rgb0/../mesh/077.obj -s compute_v_normal.mlx -o /data/NFS/new_disk/chenxin/relightable-nr/data/realdome_cx/rgb0/../mesh/077.obj -om vn\nmeshlabserver -i /data/NFS/new_disk/chenxin/relightable-nr/data/realdome_cx/rgb0/../mesh/078.obj -s compute_v_normal.mlx -o /data/NFS/new_disk/chenxin/relightable-nr/data/realdome_cx/rgb0/../mesh/078.obj -om vn\nmeshlabserver -i /data/NFS/new_disk/chenxin/relightable-nr/data/realdome_cx/rgb0/../mesh/079.obj -s compute_v_normal.mlx -o /data/NFS/new_disk/chenxin/relightable-nr/data/realdome_cx/rgb0/../mesh/079.obj -om vn\nmeshlabserver -i /data/NFS/new_disk/chenxin/relightable-nr/data/realdome_cx/rgb0/../mesh/080.obj -s compute_v_normal.mlx -o /data/NFS/new_disk/chenxin/relightable-nr/data/realdome_cx/rgb0/../mesh/080.obj -om vn\nmeshlabserver -i /data/NFS/new_disk/chenxin/relightable-nr/data/realdome_cx/rgb0/../mesh/081.obj -s compute_v_normal.mlx -o /data/NFS/new_disk/chenxin/relightable-nr/data/realdome_cx/rgb0/../mesh/081.obj -om vn\nmeshlabserver -i /data/NFS/new_disk/chenxin/relightable-nr/data/realdome_cx/rgb0/../mesh/082.obj -s compute_v_normal.mlx -o /data/NFS/new_disk/chenxin/relightable-nr/data/realdome_cx/rgb0/../mesh/082.obj -om vn\nmeshlabserver -i /data/NFS/new_disk/chenxin/relightable-nr/data/realdome_cx/rgb0/../mesh/083.obj -s compute_v_normal.mlx -o /data/NFS/new_disk/chenxin/relightable-nr/data/realdome_cx/rgb0/../mesh/083.obj -om vn\nmeshlabserver -i /data/NFS/new_disk/chenxin/relightable-nr/data/realdome_cx/rgb0/../mesh/084.obj -s compute_v_normal.mlx -o /data/NFS/new_disk/chenxin/relightable-nr/data/realdome_cx/rgb0/../mesh/084.obj -om vn\nmeshlabserver -i /data/NFS/new_disk/chenxin/relightable-nr/data/realdome_cx/rgb0/../mesh/085.obj -s compute_v_normal.mlx -o /data/NFS/new_disk/chenxin/relightable-nr/data/realdome_cx/rgb0/../mesh/085.obj -om vn\nmeshlabserver -i /data/NFS/new_disk/chenxin/relightable-nr/data/realdome_cx/rgb0/../mesh/086.obj -s compute_v_normal.mlx -o /data/NFS/new_disk/chenxin/relightable-nr/data/realdome_cx/rgb0/../mesh/086.obj -om vn\nmeshlabserver -i /data/NFS/new_disk/chenxin/relightable-nr/data/realdome_cx/rgb0/../mesh/087.obj -s compute_v_normal.mlx -o /data/NFS/new_disk/chenxin/relightable-nr/data/realdome_cx/rgb0/../mesh/087.obj -om vn\nmeshlabserver -i /data/NFS/new_disk/chenxin/relightable-nr/data/realdome_cx/rgb0/../mesh/088.obj -s compute_v_normal.mlx -o /data/NFS/new_disk/chenxin/relightable-nr/data/realdome_cx/rgb0/../mesh/088.obj -om vn\nmeshlabserver -i /data/NFS/new_disk/chenxin/relightable-nr/data/realdome_cx/rgb0/../mesh/089.obj -s compute_v_normal.mlx -o /data/NFS/new_disk/chenxin/relightable-nr/data/realdome_cx/rgb0/../mesh/089.obj -om vn\nmeshlabserver -i /data/NFS/new_disk/chenxin/relightable-nr/data/realdome_cx/rgb0/../mesh/090.obj -s compute_v_normal.mlx -o /data/NFS/new_disk/chenxin/relightable-nr/data/realdome_cx/rgb0/../mesh/090.obj -om vn\nmeshlabserver -i /data/NFS/new_disk/chenxin/relightable-nr/data/realdome_cx/rgb0/../mesh/091.obj -s compute_v_normal.mlx -o /data/NFS/new_disk/chenxin/relightable-nr/data/realdome_cx/rgb0/../mesh/091.obj -om vn\nmeshlabserver -i /data/NFS/new_disk/chenxin/relightable-nr/data/realdome_cx/rgb0/../mesh/092.obj -s compute_v_normal.mlx -o /data/NFS/new_disk/chenxin/relightable-nr/data/realdome_cx/rgb0/../mesh/092.obj -om vn\nmeshlabserver -i /data/NFS/new_disk/chenxin/relightable-nr/data/realdome_cx/rgb0/../mesh/093.obj -s compute_v_normal.mlx -o /data/NFS/new_disk/chenxin/relightable-nr/data/realdome_cx/rgb0/../mesh/093.obj -om vn\nmeshlabserver -i /data/NFS/new_disk/chenxin/relightable-nr/data/realdome_cx/rgb0/../mesh/094.obj -s compute_v_normal.mlx -o /data/NFS/new_disk/chenxin/relightable-nr/data/realdome_cx/rgb0/../mesh/094.obj -om vn\nmeshlabserver -i /data/NFS/new_disk/chenxin/relightable-nr/data/realdome_cx/rgb0/../mesh/095.obj -s compute_v_normal.mlx -o /data/NFS/new_disk/chenxin/relightable-nr/data/realdome_cx/rgb0/../mesh/095.obj -om vn\nmeshlabserver -i /data/NFS/new_disk/chenxin/relightable-nr/data/realdome_cx/rgb0/../mesh/096.obj -s compute_v_normal.mlx -o /data/NFS/new_disk/chenxin/relightable-nr/data/realdome_cx/rgb0/../mesh/096.obj -om vn\nmeshlabserver -i /data/NFS/new_disk/chenxin/relightable-nr/data/realdome_cx/rgb0/../mesh/097.obj -s compute_v_normal.mlx -o /data/NFS/new_disk/chenxin/relightable-nr/data/realdome_cx/rgb0/../mesh/097.obj -om vn\nmeshlabserver -i /data/NFS/new_disk/chenxin/relightable-nr/data/realdome_cx/rgb0/../mesh/098.obj -s compute_v_normal.mlx -o /data/NFS/new_disk/chenxin/relightable-nr/data/realdome_cx/rgb0/../mesh/098.obj -om vn\nmeshlabserver -i /data/NFS/new_disk/chenxin/relightable-nr/data/realdome_cx/rgb0/../mesh/099.obj -s compute_v_normal.mlx -o /data/NFS/new_disk/chenxin/relightable-nr/data/realdome_cx/rgb0/../mesh/099.obj -om vn\nmeshlabserver -i /data/NFS/new_disk/chenxin/relightable-nr/data/realdome_cx/rgb0/../mesh/100.obj -s compute_v_normal.mlx -o /data/NFS/new_disk/chenxin/relightable-nr/data/realdome_cx/rgb0/../mesh/100.obj -om vn\nmeshlabserver -i /data/NFS/new_disk/chenxin/relightable-nr/data/realdome_cx/rgb0/../mesh/101.obj -s compute_v_normal.mlx -o /data/NFS/new_disk/chenxin/relightable-nr/data/realdome_cx/rgb0/../mesh/101.obj -om vn\nmeshlabserver -i /data/NFS/new_disk/chenxin/relightable-nr/data/realdome_cx/rgb0/../mesh/102.obj -s compute_v_normal.mlx -o /data/NFS/new_disk/chenxin/relightable-nr/data/realdome_cx/rgb0/../mesh/102.obj -om vn\nmeshlabserver -i /data/NFS/new_disk/chenxin/relightable-nr/data/realdome_cx/rgb0/../mesh/103.obj -s compute_v_normal.mlx -o /data/NFS/new_disk/chenxin/relightable-nr/data/realdome_cx/rgb0/../mesh/103.obj -om vn\nmeshlabserver -i /data/NFS/new_disk/chenxin/relightable-nr/data/realdome_cx/rgb0/../mesh/104.obj -s compute_v_normal.mlx -o /data/NFS/new_disk/chenxin/relightable-nr/data/realdome_cx/rgb0/../mesh/104.obj -om vn\nmeshlabserver -i /data/NFS/new_disk/chenxin/relightable-nr/data/realdome_cx/rgb0/../mesh/105.obj -s compute_v_normal.mlx -o /data/NFS/new_disk/chenxin/relightable-nr/data/realdome_cx/rgb0/../mesh/105.obj -om vn\nmeshlabserver -i /data/NFS/new_disk/chenxin/relightable-nr/data/realdome_cx/rgb0/../mesh/106.obj -s compute_v_normal.mlx -o /data/NFS/new_disk/chenxin/relightable-nr/data/realdome_cx/rgb0/../mesh/106.obj -om vn\nmeshlabserver -i /data/NFS/new_disk/chenxin/relightable-nr/data/realdome_cx/rgb0/../mesh/107.obj -s compute_v_normal.mlx -o /data/NFS/new_disk/chenxin/relightable-nr/data/realdome_cx/rgb0/../mesh/107.obj -om vn\nmeshlabserver -i /data/NFS/new_disk/chenxin/relightable-nr/data/realdome_cx/rgb0/../mesh/108.obj -s compute_v_normal.mlx -o /data/NFS/new_disk/chenxin/relightable-nr/data/realdome_cx/rgb0/../mesh/108.obj -om vn\nmeshlabserver -i /data/NFS/new_disk/chenxin/relightable-nr/data/realdome_cx/rgb0/../mesh/109.obj -s compute_v_normal.mlx -o /data/NFS/new_disk/chenxin/relightable-nr/data/realdome_cx/rgb0/../mesh/109.obj -om vn\nmeshlabserver -i /data/NFS/new_disk/chenxin/relightable-nr/data/realdome_cx/rgb0/../mesh/110.obj -s compute_v_normal.mlx -o /data/NFS/new_disk/chenxin/relightable-nr/data/realdome_cx/rgb0/../mesh/110.obj -om vn\nmeshlabserver -i /data/NFS/new_disk/chenxin/relightable-nr/data/realdome_cx/rgb0/../mesh/111.obj -s compute_v_normal.mlx -o /data/NFS/new_disk/chenxin/relightable-nr/data/realdome_cx/rgb0/../mesh/111.obj -om vn\nmeshlabserver -i /data/NFS/new_disk/chenxin/relightable-nr/data/realdome_cx/rgb0/../mesh/112.obj -s compute_v_normal.mlx -o /data/NFS/new_disk/chenxin/relightable-nr/data/realdome_cx/rgb0/../mesh/112.obj -om vn\nmeshlabserver -i /data/NFS/new_disk/chenxin/relightable-nr/data/realdome_cx/rgb0/../mesh/113.obj -s compute_v_normal.mlx -o /data/NFS/new_disk/chenxin/relightable-nr/data/realdome_cx/rgb0/../mesh/113.obj -om vn\nmeshlabserver -i /data/NFS/new_disk/chenxin/relightable-nr/data/realdome_cx/rgb0/../mesh/114.obj -s compute_v_normal.mlx -o /data/NFS/new_disk/chenxin/relightable-nr/data/realdome_cx/rgb0/../mesh/114.obj -om vn\nmeshlabserver -i /data/NFS/new_disk/chenxin/relightable-nr/data/realdome_cx/rgb0/../mesh/115.obj -s compute_v_normal.mlx -o /data/NFS/new_disk/chenxin/relightable-nr/data/realdome_cx/rgb0/../mesh/115.obj -om vn\nmeshlabserver -i /data/NFS/new_disk/chenxin/relightable-nr/data/realdome_cx/rgb0/../mesh/116.obj -s compute_v_normal.mlx -o /data/NFS/new_disk/chenxin/relightable-nr/data/realdome_cx/rgb0/../mesh/116.obj -om vn\nmeshlabserver -i /data/NFS/new_disk/chenxin/relightable-nr/data/realdome_cx/rgb0/../mesh/117.obj -s compute_v_normal.mlx -o /data/NFS/new_disk/chenxin/relightable-nr/data/realdome_cx/rgb0/../mesh/117.obj -om vn\nmeshlabserver -i /data/NFS/new_disk/chenxin/relightable-nr/data/realdome_cx/rgb0/../mesh/118.obj -s compute_v_normal.mlx -o /data/NFS/new_disk/chenxin/relightable-nr/data/realdome_cx/rgb0/../mesh/118.obj -om vn\nmeshlabserver -i /data/NFS/new_disk/chenxin/relightable-nr/data/realdome_cx/rgb0/../mesh/119.obj -s compute_v_normal.mlx -o /data/NFS/new_disk/chenxin/relightable-nr/data/realdome_cx/rgb0/../mesh/119.obj -om vn\nmeshlabserver -i /data/NFS/new_disk/chenxin/relightable-nr/data/realdome_cx/rgb0/../mesh/120.obj -s compute_v_normal.mlx -o /data/NFS/new_disk/chenxin/relightable-nr/data/realdome_cx/rgb0/../mesh/120.obj -om vn\nmeshlabserver -i /data/NFS/new_disk/chenxin/relightable-nr/data/realdome_cx/rgb0/../mesh/121.obj -s compute_v_normal.mlx -o /data/NFS/new_disk/chenxin/relightable-nr/data/realdome_cx/rgb0/../mesh/121.obj -om vn\nmeshlabserver -i /data/NFS/new_disk/chenxin/relightable-nr/data/realdome_cx/rgb0/../mesh/122.obj -s compute_v_normal.mlx -o /data/NFS/new_disk/chenxin/relightable-nr/data/realdome_cx/rgb0/../mesh/122.obj -om vn\nmeshlabserver -i /data/NFS/new_disk/chenxin/relightable-nr/data/realdome_cx/rgb0/../mesh/123.obj -s compute_v_normal.mlx -o /data/NFS/new_disk/chenxin/relightable-nr/data/realdome_cx/rgb0/../mesh/123.obj -om vn\nmeshlabserver -i /data/NFS/new_disk/chenxin/relightable-nr/data/realdome_cx/rgb0/../mesh/124.obj -s compute_v_normal.mlx -o /data/NFS/new_disk/chenxin/relightable-nr/data/realdome_cx/rgb0/../mesh/124.obj -om vn\nmeshlabserver -i /data/NFS/new_disk/chenxin/relightable-nr/data/realdome_cx/rgb0/../mesh/125.obj -s compute_v_normal.mlx -o /data/NFS/new_disk/chenxin/relightable-nr/data/realdome_cx/rgb0/../mesh/125.obj -om vn\nmeshlabserver -i /data/NFS/new_disk/chenxin/relightable-nr/data/realdome_cx/rgb0/../mesh/126.obj -s compute_v_normal.mlx -o /data/NFS/new_disk/chenxin/relightable-nr/data/realdome_cx/rgb0/../mesh/126.obj -om vn\nmeshlabserver -i /data/NFS/new_disk/chenxin/relightable-nr/data/realdome_cx/rgb0/../mesh/127.obj -s compute_v_normal.mlx -o /data/NFS/new_disk/chenxin/relightable-nr/data/realdome_cx/rgb0/../mesh/127.obj -om vn\nmeshlabserver -i /data/NFS/new_disk/chenxin/relightable-nr/data/realdome_cx/rgb0/../mesh/128.obj -s compute_v_normal.mlx -o /data/NFS/new_disk/chenxin/relightable-nr/data/realdome_cx/rgb0/../mesh/128.obj -om vn\nmeshlabserver -i /data/NFS/new_disk/chenxin/relightable-nr/data/realdome_cx/rgb0/../mesh/129.obj -s compute_v_normal.mlx -o /data/NFS/new_disk/chenxin/relightable-nr/data/realdome_cx/rgb0/../mesh/129.obj -om vn\nmeshlabserver -i /data/NFS/new_disk/chenxin/relightable-nr/data/realdome_cx/rgb0/../mesh/130.obj -s compute_v_normal.mlx -o /data/NFS/new_disk/chenxin/relightable-nr/data/realdome_cx/rgb0/../mesh/130.obj -om vn\nmeshlabserver -i /data/NFS/new_disk/chenxin/relightable-nr/data/realdome_cx/rgb0/../mesh/131.obj -s compute_v_normal.mlx -o /data/NFS/new_disk/chenxin/relightable-nr/data/realdome_cx/rgb0/../mesh/131.obj -om vn\nmeshlabserver -i /data/NFS/new_disk/chenxin/relightable-nr/data/realdome_cx/rgb0/../mesh/132.obj -s compute_v_normal.mlx -o /data/NFS/new_disk/chenxin/relightable-nr/data/realdome_cx/rgb0/../mesh/132.obj -om vn\nmeshlabserver -i /data/NFS/new_disk/chenxin/relightable-nr/data/realdome_cx/rgb0/../mesh/133.obj -s compute_v_normal.mlx -o /data/NFS/new_disk/chenxin/relightable-nr/data/realdome_cx/rgb0/../mesh/133.obj -om vn\nmeshlabserver -i /data/NFS/new_disk/chenxin/relightable-nr/data/realdome_cx/rgb0/../mesh/134.obj -s compute_v_normal.mlx -o /data/NFS/new_disk/chenxin/relightable-nr/data/realdome_cx/rgb0/../mesh/134.obj -om vn\nmeshlabserver -i /data/NFS/new_disk/chenxin/relightable-nr/data/realdome_cx/rgb0/../mesh/135.obj -s compute_v_normal.mlx -o /data/NFS/new_disk/chenxin/relightable-nr/data/realdome_cx/rgb0/../mesh/135.obj -om vn\nmeshlabserver -i /data/NFS/new_disk/chenxin/relightable-nr/data/realdome_cx/rgb0/../mesh/136.obj -s compute_v_normal.mlx -o /data/NFS/new_disk/chenxin/relightable-nr/data/realdome_cx/rgb0/../mesh/136.obj -om vn\nmeshlabserver -i /data/NFS/new_disk/chenxin/relightable-nr/data/realdome_cx/rgb0/../mesh/137.obj -s compute_v_normal.mlx -o /data/NFS/new_disk/chenxin/relightable-nr/data/realdome_cx/rgb0/../mesh/137.obj -om vn\nmeshlabserver -i /data/NFS/new_disk/chenxin/relightable-nr/data/realdome_cx/rgb0/../mesh/138.obj -s compute_v_normal.mlx -o /data/NFS/new_disk/chenxin/relightable-nr/data/realdome_cx/rgb0/../mesh/138.obj -om vn\nmeshlabserver -i /data/NFS/new_disk/chenxin/relightable-nr/data/realdome_cx/rgb0/../mesh/139.obj -s compute_v_normal.mlx -o /data/NFS/new_disk/chenxin/relightable-nr/data/realdome_cx/rgb0/../mesh/139.obj -om vn\nmeshlabserver -i /data/NFS/new_disk/chenxin/relightable-nr/data/realdome_cx/rgb0/../mesh/140.obj -s compute_v_normal.mlx -o /data/NFS/new_disk/chenxin/relightable-nr/data/realdome_cx/rgb0/../mesh/140.obj -om vn\nmeshlabserver -i /data/NFS/new_disk/chenxin/relightable-nr/data/realdome_cx/rgb0/../mesh/141.obj -s compute_v_normal.mlx -o /data/NFS/new_disk/chenxin/relightable-nr/data/realdome_cx/rgb0/../mesh/141.obj -om vn\nmeshlabserver -i /data/NFS/new_disk/chenxin/relightable-nr/data/realdome_cx/rgb0/../mesh/142.obj -s compute_v_normal.mlx -o /data/NFS/new_disk/chenxin/relightable-nr/data/realdome_cx/rgb0/../mesh/142.obj -om vn\nmeshlabserver -i /data/NFS/new_disk/chenxin/relightable-nr/data/realdome_cx/rgb0/../mesh/143.obj -s compute_v_normal.mlx -o /data/NFS/new_disk/chenxin/relightable-nr/data/realdome_cx/rgb0/../mesh/143.obj -om vn\nmeshlabserver -i /data/NFS/new_disk/chenxin/relightable-nr/data/realdome_cx/rgb0/../mesh/144.obj -s compute_v_normal.mlx -o /data/NFS/new_disk/chenxin/relightable-nr/data/realdome_cx/rgb0/../mesh/144.obj -om vn\nmeshlabserver -i /data/NFS/new_disk/chenxin/relightable-nr/data/realdome_cx/rgb0/../mesh/145.obj -s compute_v_normal.mlx -o /data/NFS/new_disk/chenxin/relightable-nr/data/realdome_cx/rgb0/../mesh/145.obj -om vn\nmeshlabserver -i /data/NFS/new_disk/chenxin/relightable-nr/data/realdome_cx/rgb0/../mesh/146.obj -s compute_v_normal.mlx -o /data/NFS/new_disk/chenxin/relightable-nr/data/realdome_cx/rgb0/../mesh/146.obj -om vn\nmeshlabserver -i /data/NFS/new_disk/chenxin/relightable-nr/data/realdome_cx/rgb0/../mesh/147.obj -s compute_v_normal.mlx -o /data/NFS/new_disk/chenxin/relightable-nr/data/realdome_cx/rgb0/../mesh/147.obj -om vn\nmeshlabserver -i /data/NFS/new_disk/chenxin/relightable-nr/data/realdome_cx/rgb0/../mesh/148.obj -s compute_v_normal.mlx -o /data/NFS/new_disk/chenxin/relightable-nr/data/realdome_cx/rgb0/../mesh/148.obj -om vn\nmeshlabserver -i /data/NFS/new_disk/chenxin/relightable-nr/data/realdome_cx/rgb0/../mesh/149.obj -s compute_v_normal.mlx -o /data/NFS/new_disk/chenxin/relightable-nr/data/realdome_cx/rgb0/../mesh/149.obj -om vn\nmeshlabserver -i /data/NFS/new_disk/chenxin/relightable-nr/data/realdome_cx/rgb0/../mesh/150.obj -s compute_v_normal.mlx -o /data/NFS/new_disk/chenxin/relightable-nr/data/realdome_cx/rgb0/../mesh/150.obj -om vn\n"
    },
    {
     "output_type": "error",
     "ename": "NameError",
     "evalue": "name 'real' is not defined",
     "traceback": [
      "\u001b[0;31m---------------------------------------------------------------------------\u001b[0m",
      "\u001b[0;31mNameError\u001b[0m                                 Traceback (most recent call last)",
      "\u001b[0;32m<ipython-input-2-099535547f51>\u001b[0m in \u001b[0;36m<module>\u001b[0;34m\u001b[0m\n\u001b[1;32m     45\u001b[0m \u001b[0;34m\u001b[0m\u001b[0m\n\u001b[1;32m     46\u001b[0m \u001b[0;31m# merge tex\u001b[0m\u001b[0;34m\u001b[0m\u001b[0;34m\u001b[0m\u001b[0;34m\u001b[0m\u001b[0m\n\u001b[0;32m---> 47\u001b[0;31m \u001b[0mreal\u001b[0m\u001b[0;34m\u001b[0m\u001b[0;34m\u001b[0m\u001b[0m\n\u001b[0m",
      "\u001b[0;31mNameError\u001b[0m: name 'real' is not defined"
     ]
    }
   ],
   "source": [
    "# dome + mask => rgb => pifuhd = > cam?+obj? => align \n",
    "\n",
    "\n",
    "\n",
    "\n",
    "\n",
    " path = '/data/NFS/new_disk/chenxin/relightable-nr/data/realdome_cx/rgb0/'\n",
    "# dirs = sorted(os.listdir(path))\n",
    "# for folder in dirs:\n",
    "#     filedirs = sorted(os.listdir(path+folder))\n",
    "#     for file in filedirs:\n",
    "#         if file[-4:] == '.png'\n",
    "#             newname = '%03d.png'%(int(file[:-4])-1)\n",
    "#             print(file)\n",
    "#             print(newname)\n",
    "#             os.rename(path+folder+'/'+file, path+folder+'/'+newname)\n",
    "\n",
    "# mesh lab function\n",
    "def meshlab_resave(modelname, outputname):\n",
    "    modelname = Path(modelname)\n",
    "    # meshlabserver = \"D:\\\\MeshLab\\\\meshlabserver.exe\"\n",
    "    scriptname = \" -s compute_v_normal.mlx\"\n",
    "    # output_params = \" -m vc\"\n",
    "    meshlabserver = \"meshlabserver\"\n",
    "    \n",
    "    cmd = meshlabserver + \" -i \" + str(modelname) + scriptname + \" -o \" + str(outputname) + \" -om vn\"\n",
    "    print(cmd)\n",
    "    os.system(cmd)\n",
    "\n",
    "# # rename image\n",
    "path = '/data/NFS/new_disk/chenxin/relightable-nr/data/realdome_cx/rgb0/'\n",
    "# image_pattern = 'image.cam%02d_%06d.png'\n",
    "# new_pattern = '%03d.png'\n",
    "# for iF in range(20,151):\n",
    "#     for iC in range(1,81):\n",
    "#         orig_path = path + str(iF) + '/' + image_pattern%(iC,iF)\n",
    "#         new_path = path + str(iF) + '/' + new_pattern%(iC-1)\n",
    "#         print(orig_path)\n",
    "#         print(new_path)\n",
    "#         os.rename(orig_path, new_path)\n",
    "\n",
    "# move obj\n",
    "#os.mkdir(path+'/../mesh')\n",
    "obj_pattern = '/%d/3DDeformed/%d_nonrigidRefinded_test0327_13.ply'\n",
    "new_obj_pattern = '../mesh/%03d.obj'\n",
    "for iF in range(20,151):\n",
    "    obj_path = path + obj_pattern%(iF,iF)\n",
    "    new_path = path + new_obj_pattern%(iF)\n",
    "    #meshlab_resave(obj_path, new_path)\n",
    "    meshlab_resave(new_path, new_path)\n",
    "    \n",
    "# merge tex\n",
    "real"
   ]
  },
  {
   "cell_type": "code",
   "execution_count": null,
   "metadata": {},
   "outputs": [],
   "source": []
  },
  {
   "cell_type": "code",
   "execution_count": null,
   "metadata": {},
   "outputs": [],
   "source": []
  },
  {
   "cell_type": "code",
   "execution_count": null,
   "metadata": {},
   "outputs": [],
   "source": []
  }
 ],
 "metadata": {
  "kernelspec": {
   "display_name": "Python 3",
   "language": "python",
   "name": "python3"
  },
  "language_info": {
   "codemirror_mode": {
    "name": "ipython",
    "version": 3
   },
   "file_extension": ".py",
   "mimetype": "text/x-python",
   "name": "python",
   "nbconvert_exporter": "python",
   "pygments_lexer": "ipython3",
   "version": "3.7.4-final"
  }
 },
 "nbformat": 4,
 "nbformat_minor": 2
}