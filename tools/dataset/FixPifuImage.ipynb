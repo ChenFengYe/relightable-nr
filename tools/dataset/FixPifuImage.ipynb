{
 "cells": [
  {
   "cell_type": "code",
   "execution_count": 24,
   "metadata": {},
   "outputs": [],
   "source": [
    "import os\n",
    "import cv2\n",
    "import numpy as np"
   ]
  },
  {
   "cell_type": "code",
   "execution_count": 26,
   "metadata": {},
   "outputs": [],
   "source": [
    "path = '/data/NFS/new_disk/chenxin/relightable-nr/data/white_walkshow/rgb0_pifu'\n",
    "rs_path = '/data/NFS/new_disk/chenxin/relightable-nr/data/white_walkshow/rgb0_rect'\n",
    "# img_pattern = 'result_white_dress_short %03d_512.png'\n",
    "img_pattern = 'result_%03d-removebg-preview_512.png'\n",
    "\n",
    "rs_pattern = '%03d.png'\n",
    "for iF in range(1,156):\n",
    "    im = cv2.imread(os.path.join(path, img_pattern%iF))\n",
    "    im_gt = np.zeros([512,512,3])\n",
    "    im_gt = im[:512, :512, :]\n",
    "    cv2.imwrite(os.path.join(rs_path, rs_pattern%iF), im_gt)\n"
   ]
  },
  {
   "cell_type": "code",
   "execution_count": 16,
   "metadata": {},
   "outputs": [
    {
     "name": "stdout",
     "output_type": "stream",
     "text": [
      "(2, 3, 2)\n"
     ]
    }
   ],
   "source": [
    "print(np.zeros([2,3,2]).shape)"
   ]
  },
  {
   "cell_type": "code",
   "execution_count": null,
   "metadata": {},
   "outputs": [],
   "source": []
  }
 ],
 "metadata": {
  "kernelspec": {
   "display_name": "Python 3",
   "language": "python",
   "name": "python3"
  },
  "language_info": {
   "codemirror_mode": {
    "name": "ipython",
    "version": 3
   },
   "file_extension": ".py",
   "mimetype": "text/x-python",
   "name": "python",
   "nbconvert_exporter": "python",
   "pygments_lexer": "ipython3",
   "version": "3.6.8"
  }
 },
 "nbformat": 4,
 "nbformat_minor": 4
}
